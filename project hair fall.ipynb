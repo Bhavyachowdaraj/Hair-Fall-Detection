{
 "cells": [
  {
   "cell_type": "code",
   "execution_count": 51,
   "id": "78709332",
   "metadata": {
    "_cell_guid": "b1076dfc-b9ad-4769-8c92-a6c4dae69d19",
    "_uuid": "8f2839f25d086af736a60e9eeb907d3b93b6e0e5",
    "execution": {
     "iopub.execute_input": "2023-12-01T13:50:17.776934Z",
     "iopub.status.busy": "2023-12-01T13:50:17.776084Z",
     "iopub.status.idle": "2023-12-01T13:50:18.161506Z",
     "shell.execute_reply": "2023-12-01T13:50:18.158634Z"
    },
    "executionInfo": {
     "elapsed": 409,
     "status": "ok",
     "timestamp": 1719899399715,
     "user": {
      "displayName": "Yashu",
      "userId": "01822420586054669931"
     },
     "user_tz": -330
    },
    "id": "78709332",
    "papermill": {
     "duration": 0.399902,
     "end_time": "2023-12-01T13:50:18.165135",
     "exception": false,
     "start_time": "2023-12-01T13:50:17.765233",
     "status": "completed"
    },
    "tags": []
   },
   "outputs": [],
   "source": [
    "import numpy as np\n",
    "import pandas as pd\n",
    "import os\n",
    "\n",
    "# Loop through the directory and print filenames\n",
    "for dirname, _, filenames in os.walk(directory):\n",
    "    for filename in filenames:\n",
    "        print(os.path.join(dirname, filename))\n",
    "\n",
    "\n",
    "\n"
   ]
  },
  {
   "cell_type": "markdown",
   "id": "ceb6ddea",
   "metadata": {
    "id": "ceb6ddea",
    "papermill": {
     "duration": 0.008428,
     "end_time": "2023-12-01T13:50:18.182552",
     "exception": false,
     "start_time": "2023-12-01T13:50:18.174124",
     "status": "completed"
    },
    "tags": []
   },
   "source": [
    "# Importing Libraries"
   ]
  },
  {
   "cell_type": "code",
   "execution_count": 45,
   "id": "20a5ec56",
   "metadata": {
    "execution": {
     "iopub.execute_input": "2023-12-01T13:50:18.202154Z",
     "iopub.status.busy": "2023-12-01T13:50:18.201615Z",
     "iopub.status.idle": "2023-12-01T13:50:20.066159Z",
     "shell.execute_reply": "2023-12-01T13:50:20.064770Z"
    },
    "executionInfo": {
     "elapsed": 421,
     "status": "ok",
     "timestamp": 1719899292903,
     "user": {
      "displayName": "Yashu",
      "userId": "01822420586054669931"
     },
     "user_tz": -330
    },
    "id": "20a5ec56",
    "papermill": {
     "duration": 1.877033,
     "end_time": "2023-12-01T13:50:20.068790",
     "exception": false,
     "start_time": "2023-12-01T13:50:18.191757",
     "status": "completed"
    },
    "tags": []
   },
   "outputs": [],
   "source": [
    "import matplotlib.pyplot as plt\n",
    "import seaborn as sns\n",
    "import pandas as pd\n",
    "import tensorflow as tf\n",
    "import numpy as np\n",
    "import sklearn as sk\n",
    "import pandas as pd\n",
    "import matplotlib.pyplot as plt\n",
    "\n",
    "from sklearn.model_selection import train_test_split\n",
    "from sklearn.preprocessing import StandardScaler\n",
    "from sklearn.model_selection import train_test_split\n",
    "from sklearn.naive_bayes import GaussianNB\n",
    "from sklearn.ensemble import RandomForestClassifier\n",
    "from sklearn.tree import DecisionTreeClassifier\n",
    "from sklearn.metrics import accuracy_score, classification_report"
   ]
  },
  {
   "cell_type": "code",
   "execution_count": 1,
   "id": "vYXZFzy787_c",
   "metadata": {
    "colab": {
     "base_uri": "https://localhost:8080/"
    },
    "executionInfo": {
     "elapsed": 20993,
     "status": "ok",
     "timestamp": 1719898748677,
     "user": {
      "displayName": "Yashu",
      "userId": "01822420586054669931"
     },
     "user_tz": -330
    },
    "id": "vYXZFzy787_c",
    "outputId": "f49f3eea-4913-4923-89eb-c9a0aa807f95"
   },
   "outputs": [
    {
     "name": "stdout",
     "output_type": "stream",
     "text": [
      "Mounted at /content/drive\n"
     ]
    }
   ],
   "source": [
    "from google.colab import drive\n",
    "drive.mount('/content/drive')"
   ]
  },
  {
   "cell_type": "markdown",
   "id": "9e5c1de2",
   "metadata": {
    "id": "9e5c1de2",
    "papermill": {
     "duration": 0.008076,
     "end_time": "2023-12-01T13:50:20.085556",
     "exception": false,
     "start_time": "2023-12-01T13:50:20.077480",
     "status": "completed"
    },
    "tags": []
   },
   "source": [
    "# Reading Dataset"
   ]
  },
  {
   "cell_type": "code",
   "execution_count": 6,
   "id": "c0037220",
   "metadata": {
    "execution": {
     "iopub.execute_input": "2023-12-01T13:50:20.104760Z",
     "iopub.status.busy": "2023-12-01T13:50:20.103734Z",
     "iopub.status.idle": "2023-12-01T13:50:20.268819Z",
     "shell.execute_reply": "2023-12-01T13:50:20.267844Z"
    },
    "executionInfo": {
     "elapsed": 1125,
     "status": "ok",
     "timestamp": 1719898801869,
     "user": {
      "displayName": "Yashu",
      "userId": "01822420586054669931"
     },
     "user_tz": -330
    },
    "id": "c0037220",
    "papermill": {
     "duration": 0.177659,
     "end_time": "2023-12-01T13:50:20.271504",
     "exception": false,
     "start_time": "2023-12-01T13:50:20.093845",
     "status": "completed"
    },
    "tags": []
   },
   "outputs": [],
   "source": [
    "df = pd.read_csv('/content/drive/MyDrive/hair fall detection/data1.csv') "
   ]
  },
  {
   "cell_type": "code",
   "execution_count": null,
   "id": "2a678bc6",
   "metadata": {
    "execution": {
     "iopub.execute_input": "2023-12-01T13:50:20.291107Z",
     "iopub.status.busy": "2023-12-01T13:50:20.290023Z",
     "iopub.status.idle": "2023-12-01T13:50:20.315168Z",
     "shell.execute_reply": "2023-12-01T13:50:20.313871Z"
    },
    "id": "2a678bc6",
    "outputId": "3276a88a-671a-4801-aff6-c666752a4a79",
    "papermill": {
     "duration": 0.038202,
     "end_time": "2023-12-01T13:50:20.318320",
     "exception": false,
     "start_time": "2023-12-01T13:50:20.280118",
     "status": "completed"
    },
    "tags": []
   },
   "outputs": [
    {
     "data": {
      "text/html": [
       "<div>\n",
       "<style scoped>\n",
       "    .dataframe tbody tr th:only-of-type {\n",
       "        vertical-align: middle;\n",
       "    }\n",
       "\n",
       "    .dataframe tbody tr th {\n",
       "        vertical-align: top;\n",
       "    }\n",
       "\n",
       "    .dataframe thead th {\n",
       "        text-align: right;\n",
       "    }\n",
       "</style>\n",
       "<table border=\"1\" class=\"dataframe\">\n",
       "  <thead>\n",
       "    <tr style=\"text-align: right;\">\n",
       "      <th></th>\n",
       "      <th>total_protein</th>\n",
       "      <th>total_keratine</th>\n",
       "      <th>hair_texture</th>\n",
       "      <th>vitamin</th>\n",
       "      <th>manganese</th>\n",
       "      <th>iron</th>\n",
       "      <th>calcium</th>\n",
       "      <th>body_water_content</th>\n",
       "      <th>stress_level</th>\n",
       "      <th>liver_data</th>\n",
       "      <th>hair_fall</th>\n",
       "    </tr>\n",
       "  </thead>\n",
       "  <tbody>\n",
       "    <tr>\n",
       "      <th>0</th>\n",
       "      <td>312</td>\n",
       "      <td>100</td>\n",
       "      <td>14</td>\n",
       "      <td>249</td>\n",
       "      <td>87</td>\n",
       "      <td>55</td>\n",
       "      <td>333</td>\n",
       "      <td>44</td>\n",
       "      <td>41</td>\n",
       "      <td>368</td>\n",
       "      <td>4</td>\n",
       "    </tr>\n",
       "    <tr>\n",
       "      <th>1</th>\n",
       "      <td>52</td>\n",
       "      <td>207</td>\n",
       "      <td>3</td>\n",
       "      <td>425</td>\n",
       "      <td>387</td>\n",
       "      <td>1</td>\n",
       "      <td>182</td>\n",
       "      <td>26</td>\n",
       "      <td>65</td>\n",
       "      <td>41</td>\n",
       "      <td>1</td>\n",
       "    </tr>\n",
       "    <tr>\n",
       "      <th>2</th>\n",
       "      <td>170</td>\n",
       "      <td>197</td>\n",
       "      <td>11</td>\n",
       "      <td>140</td>\n",
       "      <td>199</td>\n",
       "      <td>91</td>\n",
       "      <td>414</td>\n",
       "      <td>30</td>\n",
       "      <td>54</td>\n",
       "      <td>90</td>\n",
       "      <td>4</td>\n",
       "    </tr>\n",
       "    <tr>\n",
       "      <th>3</th>\n",
       "      <td>256</td>\n",
       "      <td>334</td>\n",
       "      <td>19</td>\n",
       "      <td>358</td>\n",
       "      <td>120</td>\n",
       "      <td>3</td>\n",
       "      <td>35</td>\n",
       "      <td>48</td>\n",
       "      <td>45</td>\n",
       "      <td>65</td>\n",
       "      <td>2</td>\n",
       "    </tr>\n",
       "    <tr>\n",
       "      <th>4</th>\n",
       "      <td>309</td>\n",
       "      <td>185</td>\n",
       "      <td>58</td>\n",
       "      <td>207</td>\n",
       "      <td>329</td>\n",
       "      <td>301</td>\n",
       "      <td>345</td>\n",
       "      <td>23</td>\n",
       "      <td>90</td>\n",
       "      <td>346</td>\n",
       "      <td>4</td>\n",
       "    </tr>\n",
       "  </tbody>\n",
       "</table>\n",
       "</div>"
      ],
      "text/plain": [
       "   total_protein  total_keratine  hair_texture  vitamin  manganese  iron  \\\n",
       "0            312             100            14      249         87    55   \n",
       "1             52             207             3      425        387     1   \n",
       "2            170             197            11      140        199    91   \n",
       "3            256             334            19      358        120     3   \n",
       "4            309             185            58      207        329   301   \n",
       "\n",
       "   calcium  body_water_content  stress_level  liver_data  hair_fall  \n",
       "0      333                  44            41         368          4  \n",
       "1      182                  26            65          41          1  \n",
       "2      414                  30            54          90          4  \n",
       "3       35                  48            45          65          2  \n",
       "4      345                  23            90         346          4  "
      ]
     },
     "execution_count": 4,
     "metadata": {},
     "output_type": "execute_result"
    }
   ],
   "source": [
    "df.head()"
   ]
  },
  {
   "cell_type": "markdown",
   "id": "33a8b9d3",
   "metadata": {
    "id": "33a8b9d3",
    "papermill": {
     "duration": 0.008809,
     "end_time": "2023-12-01T13:50:20.335984",
     "exception": false,
     "start_time": "2023-12-01T13:50:20.327175",
     "status": "completed"
    },
    "tags": []
   },
   "source": [
    "# Checking for null values"
   ]
  },
  {
   "cell_type": "code",
   "execution_count": 7,
   "id": "7eb7ea87",
   "metadata": {
    "colab": {
     "base_uri": "https://localhost:8080/"
    },
    "execution": {
     "iopub.execute_input": "2023-12-01T13:50:20.355478Z",
     "iopub.status.busy": "2023-12-01T13:50:20.354769Z",
     "iopub.status.idle": "2023-12-01T13:50:20.366058Z",
     "shell.execute_reply": "2023-12-01T13:50:20.365058Z"
    },
    "executionInfo": {
     "elapsed": 416,
     "status": "ok",
     "timestamp": 1719898805438,
     "user": {
      "displayName": "Yashu",
      "userId": "01822420586054669931"
     },
     "user_tz": -330
    },
    "id": "7eb7ea87",
    "outputId": "70300f67-a939-491f-8650-cf0858cec69a",
    "papermill": {
     "duration": 0.0232,
     "end_time": "2023-12-01T13:50:20.368069",
     "exception": false,
     "start_time": "2023-12-01T13:50:20.344869",
     "status": "completed"
    },
    "tags": []
   },
   "outputs": [
    {
     "data": {
      "text/plain": [
       "total_protein         0\n",
       "total_keratine        0\n",
       "hair_texture          0\n",
       "vitamin               0\n",
       "manganese             0\n",
       "iron                  0\n",
       "calcium               0\n",
       "body_water_content    0\n",
       "stress_level          0\n",
       "liver_data            0\n",
       "hair_fall             0\n",
       "dtype: int64"
      ]
     },
     "execution_count": 7,
     "metadata": {},
     "output_type": "execute_result"
    }
   ],
   "source": [
    "df.isna().sum()"
   ]
  },
  {
   "cell_type": "code",
   "execution_count": 9,
   "id": "aaa84436",
   "metadata": {
    "colab": {
     "base_uri": "https://localhost:8080/"
    },
    "execution": {
     "iopub.execute_input": "2023-12-01T13:50:20.387400Z",
     "iopub.status.busy": "2023-12-01T13:50:20.387010Z",
     "iopub.status.idle": "2023-12-01T13:50:20.393269Z",
     "shell.execute_reply": "2023-12-01T13:50:20.392270Z"
    },
    "executionInfo": {
     "elapsed": 409,
     "status": "ok",
     "timestamp": 1719898810785,
     "user": {
      "displayName": "Yashu",
      "userId": "01822420586054669931"
     },
     "user_tz": -330
    },
    "id": "aaa84436",
    "outputId": "656895c3-a6fd-4032-f0f7-9b4ad4a4ce11",
    "papermill": {
     "duration": 0.018458,
     "end_time": "2023-12-01T13:50:20.395324",
     "exception": false,
     "start_time": "2023-12-01T13:50:20.376866",
     "status": "completed"
    },
    "tags": []
   },
   "outputs": [
    {
     "data": {
      "text/plain": [
       "(100000, 11)"
      ]
     },
     "execution_count": 9,
     "metadata": {},
     "output_type": "execute_result"
    }
   ],
   "source": [
    "df.shape"
   ]
  },
  {
   "cell_type": "code",
   "execution_count": 10,
   "id": "f05a5412",
   "metadata": {
    "colab": {
     "base_uri": "https://localhost:8080/",
     "height": 300
    },
    "execution": {
     "iopub.execute_input": "2023-12-01T13:50:20.414542Z",
     "iopub.status.busy": "2023-12-01T13:50:20.414158Z",
     "iopub.status.idle": "2023-12-01T13:50:20.499192Z",
     "shell.execute_reply": "2023-12-01T13:50:20.498073Z"
    },
    "executionInfo": {
     "elapsed": 11,
     "status": "ok",
     "timestamp": 1719898812265,
     "user": {
      "displayName": "Yashu",
      "userId": "01822420586054669931"
     },
     "user_tz": -330
    },
    "id": "f05a5412",
    "outputId": "b3395dde-ff8e-4b7d-b14b-8045ae4b0622",
    "papermill": {
     "duration": 0.097368,
     "end_time": "2023-12-01T13:50:20.501659",
     "exception": false,
     "start_time": "2023-12-01T13:50:20.404291",
     "status": "completed"
    },
    "tags": []
   },
   "outputs": [
    {
     "data": {
      "application/vnd.google.colaboratory.intrinsic+json": {
       "summary": "{\n  \"name\": \"df\",\n  \"rows\": 8,\n  \"fields\": [\n    {\n      \"column\": \"total_protein\",\n      \"properties\": {\n        \"dtype\": \"number\",\n        \"std\": 35272.68963134031,\n        \"min\": 0.0,\n        \"max\": 100000.0,\n        \"num_unique_values\": 8,\n        \"samples\": [\n          249.57396,\n          250.0,\n          100000.0\n        ],\n        \"semantic_type\": \"\",\n        \"description\": \"\"\n      }\n    },\n    {\n      \"column\": \"total_keratine\",\n      \"properties\": {\n        \"dtype\": \"number\",\n        \"std\": 35272.93805182076,\n        \"min\": 0.0,\n        \"max\": 100000.0,\n        \"num_unique_values\": 8,\n        \"samples\": [\n          248.87547,\n          249.0,\n          100000.0\n        ],\n        \"semantic_type\": \"\",\n        \"description\": \"\"\n      }\n    },\n    {\n      \"column\": \"hair_texture\",\n      \"properties\": {\n        \"dtype\": \"number\",\n        \"std\": 35338.81239274385,\n        \"min\": 0.0,\n        \"max\": 100000.0,\n        \"num_unique_values\": 8,\n        \"samples\": [\n          49.5584,\n          50.0,\n          100000.0\n        ],\n        \"semantic_type\": \"\",\n        \"description\": \"\"\n      }\n    },\n    {\n      \"column\": \"vitamin\",\n      \"properties\": {\n        \"dtype\": \"number\",\n        \"std\": 35272.68016604077,\n        \"min\": 0.0,\n        \"max\": 100000.0,\n        \"num_unique_values\": 8,\n        \"samples\": [\n          249.94973,\n          250.0,\n          100000.0\n        ],\n        \"semantic_type\": \"\",\n        \"description\": \"\"\n      }\n    },\n    {\n      \"column\": \"manganese\",\n      \"properties\": {\n        \"dtype\": \"number\",\n        \"std\": 35272.69771785555,\n        \"min\": 0.0,\n        \"max\": 100000.0,\n        \"num_unique_values\": 8,\n        \"samples\": [\n          249.55848,\n          250.0,\n          100000.0\n        ],\n        \"semantic_type\": \"\",\n        \"description\": \"\"\n      }\n    },\n    {\n      \"column\": \"iron\",\n      \"properties\": {\n        \"dtype\": \"number\",\n        \"std\": 35272.86928838724,\n        \"min\": 0.0,\n        \"max\": 100000.0,\n        \"num_unique_values\": 8,\n        \"samples\": [\n          249.09926,\n          249.0,\n          100000.0\n        ],\n        \"semantic_type\": \"\",\n        \"description\": \"\"\n      }\n    },\n    {\n      \"column\": \"calcium\",\n      \"properties\": {\n        \"dtype\": \"number\",\n        \"std\": 35272.53855172342,\n        \"min\": 0.0,\n        \"max\": 100000.0,\n        \"num_unique_values\": 8,\n        \"samples\": [\n          250.53816,\n          251.0,\n          100000.0\n        ],\n        \"semantic_type\": \"\",\n        \"description\": \"\"\n      }\n    },\n    {\n      \"column\": \"body_water_content\",\n      \"properties\": {\n        \"dtype\": \"number\",\n        \"std\": 35338.919638864725,\n        \"min\": 0.0,\n        \"max\": 100000.0,\n        \"num_unique_values\": 8,\n        \"samples\": [\n          49.48459,\n          50.0,\n          100000.0\n        ],\n        \"semantic_type\": \"\",\n        \"description\": \"\"\n      }\n    },\n    {\n      \"column\": \"stress_level\",\n      \"properties\": {\n        \"dtype\": \"number\",\n        \"std\": 35338.922473658924,\n        \"min\": 0.0,\n        \"max\": 100000.0,\n        \"num_unique_values\": 8,\n        \"samples\": [\n          49.36618,\n          49.0,\n          100000.0\n        ],\n        \"semantic_type\": \"\",\n        \"description\": \"\"\n      }\n    },\n    {\n      \"column\": \"liver_data\",\n      \"properties\": {\n        \"dtype\": \"number\",\n        \"std\": 35272.66998095273,\n        \"min\": 0.0,\n        \"max\": 100000.0,\n        \"num_unique_values\": 8,\n        \"samples\": [\n          249.76993,\n          250.0,\n          100000.0\n        ],\n        \"semantic_type\": \"\",\n        \"description\": \"\"\n      }\n    },\n    {\n      \"column\": \"hair_fall\",\n      \"properties\": {\n        \"dtype\": \"number\",\n        \"std\": 35354.52025902977,\n        \"min\": 0.0,\n        \"max\": 100000.0,\n        \"num_unique_values\": 8,\n        \"samples\": [\n          2.50152,\n          2.0,\n          100000.0\n        ],\n        \"semantic_type\": \"\",\n        \"description\": \"\"\n      }\n    }\n  ]\n}",
       "type": "dataframe"
      },
      "text/html": [
       "\n",
       "  <div id=\"df-770e1eda-e488-442f-a980-73911c0dd9a1\" class=\"colab-df-container\">\n",
       "    <div>\n",
       "<style scoped>\n",
       "    .dataframe tbody tr th:only-of-type {\n",
       "        vertical-align: middle;\n",
       "    }\n",
       "\n",
       "    .dataframe tbody tr th {\n",
       "        vertical-align: top;\n",
       "    }\n",
       "\n",
       "    .dataframe thead th {\n",
       "        text-align: right;\n",
       "    }\n",
       "</style>\n",
       "<table border=\"1\" class=\"dataframe\">\n",
       "  <thead>\n",
       "    <tr style=\"text-align: right;\">\n",
       "      <th></th>\n",
       "      <th>total_protein</th>\n",
       "      <th>total_keratine</th>\n",
       "      <th>hair_texture</th>\n",
       "      <th>vitamin</th>\n",
       "      <th>manganese</th>\n",
       "      <th>iron</th>\n",
       "      <th>calcium</th>\n",
       "      <th>body_water_content</th>\n",
       "      <th>stress_level</th>\n",
       "      <th>liver_data</th>\n",
       "      <th>hair_fall</th>\n",
       "    </tr>\n",
       "  </thead>\n",
       "  <tbody>\n",
       "    <tr>\n",
       "      <th>count</th>\n",
       "      <td>100000.000000</td>\n",
       "      <td>100000.000000</td>\n",
       "      <td>100000.000000</td>\n",
       "      <td>100000.000000</td>\n",
       "      <td>100000.000000</td>\n",
       "      <td>100000.000000</td>\n",
       "      <td>100000.000000</td>\n",
       "      <td>100000.000000</td>\n",
       "      <td>100000.000000</td>\n",
       "      <td>100000.000000</td>\n",
       "      <td>100000.000000</td>\n",
       "    </tr>\n",
       "    <tr>\n",
       "      <th>mean</th>\n",
       "      <td>249.573960</td>\n",
       "      <td>248.875470</td>\n",
       "      <td>49.558400</td>\n",
       "      <td>249.949730</td>\n",
       "      <td>249.558480</td>\n",
       "      <td>249.099260</td>\n",
       "      <td>250.538160</td>\n",
       "      <td>49.484590</td>\n",
       "      <td>49.366180</td>\n",
       "      <td>249.769930</td>\n",
       "      <td>2.501520</td>\n",
       "    </tr>\n",
       "    <tr>\n",
       "      <th>std</th>\n",
       "      <td>144.427199</td>\n",
       "      <td>144.193226</td>\n",
       "      <td>28.913959</td>\n",
       "      <td>144.240639</td>\n",
       "      <td>144.283595</td>\n",
       "      <td>144.341273</td>\n",
       "      <td>144.467648</td>\n",
       "      <td>28.863998</td>\n",
       "      <td>28.928164</td>\n",
       "      <td>144.639119</td>\n",
       "      <td>1.710604</td>\n",
       "    </tr>\n",
       "    <tr>\n",
       "      <th>min</th>\n",
       "      <td>0.000000</td>\n",
       "      <td>0.000000</td>\n",
       "      <td>0.000000</td>\n",
       "      <td>0.000000</td>\n",
       "      <td>0.000000</td>\n",
       "      <td>0.000000</td>\n",
       "      <td>0.000000</td>\n",
       "      <td>0.000000</td>\n",
       "      <td>0.000000</td>\n",
       "      <td>0.000000</td>\n",
       "      <td>0.000000</td>\n",
       "    </tr>\n",
       "    <tr>\n",
       "      <th>25%</th>\n",
       "      <td>125.000000</td>\n",
       "      <td>124.000000</td>\n",
       "      <td>25.000000</td>\n",
       "      <td>125.000000</td>\n",
       "      <td>125.000000</td>\n",
       "      <td>124.000000</td>\n",
       "      <td>125.000000</td>\n",
       "      <td>24.000000</td>\n",
       "      <td>24.000000</td>\n",
       "      <td>124.000000</td>\n",
       "      <td>1.000000</td>\n",
       "    </tr>\n",
       "    <tr>\n",
       "      <th>50%</th>\n",
       "      <td>250.000000</td>\n",
       "      <td>249.000000</td>\n",
       "      <td>50.000000</td>\n",
       "      <td>250.000000</td>\n",
       "      <td>250.000000</td>\n",
       "      <td>249.000000</td>\n",
       "      <td>251.000000</td>\n",
       "      <td>50.000000</td>\n",
       "      <td>49.000000</td>\n",
       "      <td>250.000000</td>\n",
       "      <td>2.000000</td>\n",
       "    </tr>\n",
       "    <tr>\n",
       "      <th>75%</th>\n",
       "      <td>375.000000</td>\n",
       "      <td>373.000000</td>\n",
       "      <td>75.000000</td>\n",
       "      <td>375.000000</td>\n",
       "      <td>375.000000</td>\n",
       "      <td>374.000000</td>\n",
       "      <td>376.000000</td>\n",
       "      <td>74.000000</td>\n",
       "      <td>75.000000</td>\n",
       "      <td>376.000000</td>\n",
       "      <td>4.000000</td>\n",
       "    </tr>\n",
       "    <tr>\n",
       "      <th>max</th>\n",
       "      <td>499.000000</td>\n",
       "      <td>499.000000</td>\n",
       "      <td>99.000000</td>\n",
       "      <td>499.000000</td>\n",
       "      <td>499.000000</td>\n",
       "      <td>499.000000</td>\n",
       "      <td>499.000000</td>\n",
       "      <td>99.000000</td>\n",
       "      <td>99.000000</td>\n",
       "      <td>499.000000</td>\n",
       "      <td>5.000000</td>\n",
       "    </tr>\n",
       "  </tbody>\n",
       "</table>\n",
       "</div>\n",
       "    <div class=\"colab-df-buttons\">\n",
       "\n",
       "  <div class=\"colab-df-container\">\n",
       "    <button class=\"colab-df-convert\" onclick=\"convertToInteractive('df-770e1eda-e488-442f-a980-73911c0dd9a1')\"\n",
       "            title=\"Convert this dataframe to an interactive table.\"\n",
       "            style=\"display:none;\">\n",
       "\n",
       "  <svg xmlns=\"http://www.w3.org/2000/svg\" height=\"24px\" viewBox=\"0 -960 960 960\">\n",
       "    <path d=\"M120-120v-720h720v720H120Zm60-500h600v-160H180v160Zm220 220h160v-160H400v160Zm0 220h160v-160H400v160ZM180-400h160v-160H180v160Zm440 0h160v-160H620v160ZM180-180h160v-160H180v160Zm440 0h160v-160H620v160Z\"/>\n",
       "  </svg>\n",
       "    </button>\n",
       "\n",
       "  <style>\n",
       "    .colab-df-container {\n",
       "      display:flex;\n",
       "      gap: 12px;\n",
       "    }\n",
       "\n",
       "    .colab-df-convert {\n",
       "      background-color: #E8F0FE;\n",
       "      border: none;\n",
       "      border-radius: 50%;\n",
       "      cursor: pointer;\n",
       "      display: none;\n",
       "      fill: #1967D2;\n",
       "      height: 32px;\n",
       "      padding: 0 0 0 0;\n",
       "      width: 32px;\n",
       "    }\n",
       "\n",
       "    .colab-df-convert:hover {\n",
       "      background-color: #E2EBFA;\n",
       "      box-shadow: 0px 1px 2px rgba(60, 64, 67, 0.3), 0px 1px 3px 1px rgba(60, 64, 67, 0.15);\n",
       "      fill: #174EA6;\n",
       "    }\n",
       "\n",
       "    .colab-df-buttons div {\n",
       "      margin-bottom: 4px;\n",
       "    }\n",
       "\n",
       "    [theme=dark] .colab-df-convert {\n",
       "      background-color: #3B4455;\n",
       "      fill: #D2E3FC;\n",
       "    }\n",
       "\n",
       "    [theme=dark] .colab-df-convert:hover {\n",
       "      background-color: #434B5C;\n",
       "      box-shadow: 0px 1px 3px 1px rgba(0, 0, 0, 0.15);\n",
       "      filter: drop-shadow(0px 1px 2px rgba(0, 0, 0, 0.3));\n",
       "      fill: #FFFFFF;\n",
       "    }\n",
       "  </style>\n",
       "\n",
       "    <script>\n",
       "      const buttonEl =\n",
       "        document.querySelector('#df-770e1eda-e488-442f-a980-73911c0dd9a1 button.colab-df-convert');\n",
       "      buttonEl.style.display =\n",
       "        google.colab.kernel.accessAllowed ? 'block' : 'none';\n",
       "\n",
       "      async function convertToInteractive(key) {\n",
       "        const element = document.querySelector('#df-770e1eda-e488-442f-a980-73911c0dd9a1');\n",
       "        const dataTable =\n",
       "          await google.colab.kernel.invokeFunction('convertToInteractive',\n",
       "                                                    [key], {});\n",
       "        if (!dataTable) return;\n",
       "\n",
       "        const docLinkHtml = 'Like what you see? Visit the ' +\n",
       "          '<a target=\"_blank\" href=https://colab.research.google.com/notebooks/data_table.ipynb>data table notebook</a>'\n",
       "          + ' to learn more about interactive tables.';\n",
       "        element.innerHTML = '';\n",
       "        dataTable['output_type'] = 'display_data';\n",
       "        await google.colab.output.renderOutput(dataTable, element);\n",
       "        const docLink = document.createElement('div');\n",
       "        docLink.innerHTML = docLinkHtml;\n",
       "        element.appendChild(docLink);\n",
       "      }\n",
       "    </script>\n",
       "  </div>\n",
       "\n",
       "\n",
       "<div id=\"df-9bb773e2-c062-442a-bc0c-07d7fdee6c55\">\n",
       "  <button class=\"colab-df-quickchart\" onclick=\"quickchart('df-9bb773e2-c062-442a-bc0c-07d7fdee6c55')\"\n",
       "            title=\"Suggest charts\"\n",
       "            style=\"display:none;\">\n",
       "\n",
       "<svg xmlns=\"http://www.w3.org/2000/svg\" height=\"24px\"viewBox=\"0 0 24 24\"\n",
       "     width=\"24px\">\n",
       "    <g>\n",
       "        <path d=\"M19 3H5c-1.1 0-2 .9-2 2v14c0 1.1.9 2 2 2h14c1.1 0 2-.9 2-2V5c0-1.1-.9-2-2-2zM9 17H7v-7h2v7zm4 0h-2V7h2v10zm4 0h-2v-4h2v4z\"/>\n",
       "    </g>\n",
       "</svg>\n",
       "  </button>\n",
       "\n",
       "<style>\n",
       "  .colab-df-quickchart {\n",
       "      --bg-color: #E8F0FE;\n",
       "      --fill-color: #1967D2;\n",
       "      --hover-bg-color: #E2EBFA;\n",
       "      --hover-fill-color: #174EA6;\n",
       "      --disabled-fill-color: #AAA;\n",
       "      --disabled-bg-color: #DDD;\n",
       "  }\n",
       "\n",
       "  [theme=dark] .colab-df-quickchart {\n",
       "      --bg-color: #3B4455;\n",
       "      --fill-color: #D2E3FC;\n",
       "      --hover-bg-color: #434B5C;\n",
       "      --hover-fill-color: #FFFFFF;\n",
       "      --disabled-bg-color: #3B4455;\n",
       "      --disabled-fill-color: #666;\n",
       "  }\n",
       "\n",
       "  .colab-df-quickchart {\n",
       "    background-color: var(--bg-color);\n",
       "    border: none;\n",
       "    border-radius: 50%;\n",
       "    cursor: pointer;\n",
       "    display: none;\n",
       "    fill: var(--fill-color);\n",
       "    height: 32px;\n",
       "    padding: 0;\n",
       "    width: 32px;\n",
       "  }\n",
       "\n",
       "  .colab-df-quickchart:hover {\n",
       "    background-color: var(--hover-bg-color);\n",
       "    box-shadow: 0 1px 2px rgba(60, 64, 67, 0.3), 0 1px 3px 1px rgba(60, 64, 67, 0.15);\n",
       "    fill: var(--button-hover-fill-color);\n",
       "  }\n",
       "\n",
       "  .colab-df-quickchart-complete:disabled,\n",
       "  .colab-df-quickchart-complete:disabled:hover {\n",
       "    background-color: var(--disabled-bg-color);\n",
       "    fill: var(--disabled-fill-color);\n",
       "    box-shadow: none;\n",
       "  }\n",
       "\n",
       "  .colab-df-spinner {\n",
       "    border: 2px solid var(--fill-color);\n",
       "    border-color: transparent;\n",
       "    border-bottom-color: var(--fill-color);\n",
       "    animation:\n",
       "      spin 1s steps(1) infinite;\n",
       "  }\n",
       "\n",
       "  @keyframes spin {\n",
       "    0% {\n",
       "      border-color: transparent;\n",
       "      border-bottom-color: var(--fill-color);\n",
       "      border-left-color: var(--fill-color);\n",
       "    }\n",
       "    20% {\n",
       "      border-color: transparent;\n",
       "      border-left-color: var(--fill-color);\n",
       "      border-top-color: var(--fill-color);\n",
       "    }\n",
       "    30% {\n",
       "      border-color: transparent;\n",
       "      border-left-color: var(--fill-color);\n",
       "      border-top-color: var(--fill-color);\n",
       "      border-right-color: var(--fill-color);\n",
       "    }\n",
       "    40% {\n",
       "      border-color: transparent;\n",
       "      border-right-color: var(--fill-color);\n",
       "      border-top-color: var(--fill-color);\n",
       "    }\n",
       "    60% {\n",
       "      border-color: transparent;\n",
       "      border-right-color: var(--fill-color);\n",
       "    }\n",
       "    80% {\n",
       "      border-color: transparent;\n",
       "      border-right-color: var(--fill-color);\n",
       "      border-bottom-color: var(--fill-color);\n",
       "    }\n",
       "    90% {\n",
       "      border-color: transparent;\n",
       "      border-bottom-color: var(--fill-color);\n",
       "    }\n",
       "  }\n",
       "</style>\n",
       "\n",
       "  <script>\n",
       "    async function quickchart(key) {\n",
       "      const quickchartButtonEl =\n",
       "        document.querySelector('#' + key + ' button');\n",
       "      quickchartButtonEl.disabled = true;  // To prevent multiple clicks.\n",
       "      quickchartButtonEl.classList.add('colab-df-spinner');\n",
       "      try {\n",
       "        const charts = await google.colab.kernel.invokeFunction(\n",
       "            'suggestCharts', [key], {});\n",
       "      } catch (error) {\n",
       "        console.error('Error during call to suggestCharts:', error);\n",
       "      }\n",
       "      quickchartButtonEl.classList.remove('colab-df-spinner');\n",
       "      quickchartButtonEl.classList.add('colab-df-quickchart-complete');\n",
       "    }\n",
       "    (() => {\n",
       "      let quickchartButtonEl =\n",
       "        document.querySelector('#df-9bb773e2-c062-442a-bc0c-07d7fdee6c55 button');\n",
       "      quickchartButtonEl.style.display =\n",
       "        google.colab.kernel.accessAllowed ? 'block' : 'none';\n",
       "    })();\n",
       "  </script>\n",
       "</div>\n",
       "\n",
       "    </div>\n",
       "  </div>\n"
      ],
      "text/plain": [
       "       total_protein  total_keratine   hair_texture        vitamin  \\\n",
       "count  100000.000000   100000.000000  100000.000000  100000.000000   \n",
       "mean      249.573960      248.875470      49.558400     249.949730   \n",
       "std       144.427199      144.193226      28.913959     144.240639   \n",
       "min         0.000000        0.000000       0.000000       0.000000   \n",
       "25%       125.000000      124.000000      25.000000     125.000000   \n",
       "50%       250.000000      249.000000      50.000000     250.000000   \n",
       "75%       375.000000      373.000000      75.000000     375.000000   \n",
       "max       499.000000      499.000000      99.000000     499.000000   \n",
       "\n",
       "           manganese           iron        calcium  body_water_content  \\\n",
       "count  100000.000000  100000.000000  100000.000000       100000.000000   \n",
       "mean      249.558480     249.099260     250.538160           49.484590   \n",
       "std       144.283595     144.341273     144.467648           28.863998   \n",
       "min         0.000000       0.000000       0.000000            0.000000   \n",
       "25%       125.000000     124.000000     125.000000           24.000000   \n",
       "50%       250.000000     249.000000     251.000000           50.000000   \n",
       "75%       375.000000     374.000000     376.000000           74.000000   \n",
       "max       499.000000     499.000000     499.000000           99.000000   \n",
       "\n",
       "        stress_level     liver_data      hair_fall  \n",
       "count  100000.000000  100000.000000  100000.000000  \n",
       "mean       49.366180     249.769930       2.501520  \n",
       "std        28.928164     144.639119       1.710604  \n",
       "min         0.000000       0.000000       0.000000  \n",
       "25%        24.000000     124.000000       1.000000  \n",
       "50%        49.000000     250.000000       2.000000  \n",
       "75%        75.000000     376.000000       4.000000  \n",
       "max        99.000000     499.000000       5.000000  "
      ]
     },
     "execution_count": 10,
     "metadata": {},
     "output_type": "execute_result"
    }
   ],
   "source": [
    "df.describe() "
   ]
  },
  {
   "cell_type": "markdown",
   "id": "444644de",
   "metadata": {
    "id": "444644de",
    "papermill": {
     "duration": 0.008743,
     "end_time": "2023-12-01T13:50:20.519653",
     "exception": false,
     "start_time": "2023-12-01T13:50:20.510910",
     "status": "completed"
    },
    "tags": []
   },
   "source": [
    "# EDA"
   ]
  },
  {
   "cell_type": "code",
   "execution_count": 11,
   "id": "c7cca8dd",
   "metadata": {
    "colab": {
     "base_uri": "https://localhost:8080/",
     "height": 564
    },
    "execution": {
     "iopub.execute_input": "2023-12-01T13:50:20.540522Z",
     "iopub.status.busy": "2023-12-01T13:50:20.539681Z",
     "iopub.status.idle": "2023-12-01T13:50:20.849197Z",
     "shell.execute_reply": "2023-12-01T13:50:20.848182Z"
    },
    "executionInfo": {
     "elapsed": 10,
     "status": "ok",
     "timestamp": 1719898815086,
     "user": {
      "displayName": "Yashu",
      "userId": "01822420586054669931"
     },
     "user_tz": -330
    },
    "id": "c7cca8dd",
    "outputId": "bbed334a-5178-4eef-face-0b2b0679dc50",
    "papermill": {
     "duration": 0.322555,
     "end_time": "2023-12-01T13:50:20.851654",
     "exception": false,
     "start_time": "2023-12-01T13:50:20.529099",
     "status": "completed"
    },
    "tags": []
   },
   "outputs": [
    {
     "data": {
      "image/png": "[encoded data removed]",
      "text/plain": [
       "<Figure size 800x600 with 1 Axes>"
      ]
     },
     "metadata": {},
     "output_type": "display_data"
    }
   ],
   "source": [
    "# Plotting the distribution of the 'hair_fall' classes\n",
    "plt.figure(figsize=(8, 6))\n",
    "sns.countplot(x='hair_fall', data=df)\n",
    "plt.title('Distribution of Hair Fall Classes')\n",
    "plt.xlabel('Hair Fall')\n",
    "plt.ylabel('Count')\n",
    "plt.show()"
   ]
  },
  {
   "cell_type": "markdown",
   "id": "fcd87508",
   "metadata": {
    "id": "fcd87508",
    "papermill": {
     "duration": 0.009115,
     "end_time": "2023-12-01T13:50:20.870849",
     "exception": false,
     "start_time": "2023-12-01T13:50:20.861734",
     "status": "completed"
    },
    "tags": []
   },
   "source": [
    "Here we can see dataset is balanced"
   ]
  },
  {
   "cell_type": "code",
   "execution_count": 12,
   "id": "89647f4d",
   "metadata": {
    "colab": {
     "base_uri": "https://localhost:8080/",
     "height": 980
    },
    "execution": {
     "iopub.execute_input": "2023-12-01T13:50:20.891969Z",
     "iopub.status.busy": "2023-12-01T13:50:20.891189Z",
     "iopub.status.idle": "2023-12-01T13:50:21.611636Z",
     "shell.execute_reply": "2023-12-01T13:50:21.610551Z"
    },
    "executionInfo": {
     "elapsed": 1698,
     "status": "ok",
     "timestamp": 1719898819121,
     "user": {
      "displayName": "Yashu",
      "userId": "01822420586054669931"
     },
     "user_tz": -330
    },
    "id": "89647f4d",
    "outputId": "6cc63fac-8359-401a-bced-0f5a07a703e4",
    "papermill": {
     "duration": 0.733976,
     "end_time": "2023-12-01T13:50:21.614251",
     "exception": false,
     "start_time": "2023-12-01T13:50:20.880275",
     "status": "completed"
    },
    "tags": []
   },
   "outputs": [
    {
     "data": {
      "image/png": "[encoded data removed]",
      "text/plain": [
       "<Figure size 1200x1000 with 2 Axes>"
      ]
     },
     "metadata": {},
     "output_type": "display_data"
    }
   ],
   "source": [
    "# Calculate the correlation matrix\n",
    "correlation_matrix = df.corr()\n",
    "\n",
    "# Create a heatmap\n",
    "plt.figure(figsize=(12, 10))\n",
    "sns.heatmap(correlation_matrix, annot=True, cmap='coolwarm', fmt=\".2f\", linewidths=.5)\n",
    "plt.title('Correlation Heatmap')\n",
    "plt.show()"
   ]
  },
  {
   "cell_type": "markdown",
   "id": "77dabd10",
   "metadata": {
    "id": "77dabd10",
    "papermill": {
     "duration": 0.010545,
     "end_time": "2023-12-01T13:50:21.636078",
     "exception": false,
     "start_time": "2023-12-01T13:50:21.625533",
     "status": "completed"
    },
    "tags": []
   },
   "source": [
    "Here we can see the features are not strongly correlated to each other"
   ]
  },
  {
   "cell_type": "markdown",
   "id": "feef3826",
   "metadata": {
    "id": "feef3826",
    "papermill": {
     "duration": 0.010603,
     "end_time": "2023-12-01T13:50:21.657606",
     "exception": false,
     "start_time": "2023-12-01T13:50:21.647003",
     "status": "completed"
    },
    "tags": []
   },
   "source": [
    "## Spliting Data into X(features) and Y(Label)"
   ]
  },
  {
   "cell_type": "code",
   "execution_count": 13,
   "id": "c71603dc",
   "metadata": {
    "execution": {
     "iopub.execute_input": "2023-12-01T13:50:21.681393Z",
     "iopub.status.busy": "2023-12-01T13:50:21.680893Z",
     "iopub.status.idle": "2023-12-01T13:50:21.693469Z",
     "shell.execute_reply": "2023-12-01T13:50:21.692317Z"
    },
    "executionInfo": {
     "elapsed": 1,
     "status": "ok",
     "timestamp": 1719898821815,
     "user": {
      "displayName": "Yashu",
      "userId": "01822420586054669931"
     },
     "user_tz": -330
    },
    "id": "c71603dc",
    "papermill": {
     "duration": 0.027307,
     "end_time": "2023-12-01T13:50:21.695767",
     "exception": false,
     "start_time": "2023-12-01T13:50:21.668460",
     "status": "completed"
    },
    "tags": []
   },
   "outputs": [],
   "source": [
    "X = df.drop('hair_fall', axis=1)  # Features\n",
    "y = df['hair_fall']  # Target variable"
   ]
  },
  {
   "cell_type": "markdown",
   "id": "0882c34d",
   "metadata": {
    "id": "0882c34d",
    "papermill": {
     "duration": 0.010902,
     "end_time": "2023-12-01T13:50:21.717684",
     "exception": false,
     "start_time": "2023-12-01T13:50:21.706782",
     "status": "completed"
    },
    "tags": []
   },
   "source": [
    "# Train Test Split"
   ]
  },
  {
   "cell_type": "code",
   "execution_count": 14,
   "id": "db68d1c0",
   "metadata": {
    "execution": {
     "iopub.execute_input": "2023-12-01T13:50:21.741388Z",
     "iopub.status.busy": "2023-12-01T13:50:21.740990Z",
     "iopub.status.idle": "2023-12-01T13:50:21.764247Z",
     "shell.execute_reply": "2023-12-01T13:50:21.763106Z"
    },
    "executionInfo": {
     "elapsed": 1,
     "status": "ok",
     "timestamp": 1719898823462,
     "user": {
      "displayName": "Yashu",
      "userId": "01822420586054669931"
     },
     "user_tz": -330
    },
    "id": "db68d1c0",
    "papermill": {
     "duration": 0.038328,
     "end_time": "2023-12-01T13:50:21.766904",
     "exception": false,
     "start_time": "2023-12-01T13:50:21.728576",
     "status": "completed"
    },
    "tags": []
   },
   "outputs": [],
   "source": [
    "X_train, X_test, y_train, y_test = train_test_split(X, y, test_size=0.2, random_state=42)"
   ]
  },
  {
   "cell_type": "code",
   "execution_count": 15,
   "id": "3b388657",
   "metadata": {
    "colab": {
     "base_uri": "https://localhost:8080/"
    },
    "execution": {
     "iopub.execute_input": "2023-12-01T13:50:21.790587Z",
     "iopub.status.busy": "2023-12-01T13:50:21.790185Z",
     "iopub.status.idle": "2023-12-01T13:50:21.796220Z",
     "shell.execute_reply": "2023-12-01T13:50:21.795209Z"
    },
    "executionInfo": {
     "elapsed": 6,
     "status": "ok",
     "timestamp": 1719898825058,
     "user": {
      "displayName": "Yashu",
      "userId": "01822420586054669931"
     },
     "user_tz": -330
    },
    "id": "3b388657",
    "outputId": "283a496b-1f9f-4d65-d256-e87300f5f486",
    "papermill": {
     "duration": 0.020328,
     "end_time": "2023-12-01T13:50:21.798221",
     "exception": false,
     "start_time": "2023-12-01T13:50:21.777893",
     "status": "completed"
    },
    "tags": []
   },
   "outputs": [
    {
     "data": {
      "text/plain": [
       "(80000, 10)"
      ]
     },
     "execution_count": 15,
     "metadata": {},
     "output_type": "execute_result"
    }
   ],
   "source": [
    "X_train.shape"
   ]
  },
  {
   "cell_type": "code",
   "execution_count": 16,
   "id": "b6845f84",
   "metadata": {
    "colab": {
     "base_uri": "https://localhost:8080/"
    },
    "execution": {
     "iopub.execute_input": "2023-12-01T13:50:21.821853Z",
     "iopub.status.busy": "2023-12-01T13:50:21.821226Z",
     "iopub.status.idle": "2023-12-01T13:50:21.827590Z",
     "shell.execute_reply": "2023-12-01T13:50:21.826791Z"
    },
    "executionInfo": {
     "elapsed": 5,
     "status": "ok",
     "timestamp": 1719898826565,
     "user": {
      "displayName": "Yashu",
      "userId": "01822420586054669931"
     },
     "user_tz": -330
    },
    "id": "b6845f84",
    "outputId": "468270ba-4a03-4938-ecbb-293f64e5b69d",
    "papermill": {
     "duration": 0.020437,
     "end_time": "2023-12-01T13:50:21.829500",
     "exception": false,
     "start_time": "2023-12-01T13:50:21.809063",
     "status": "completed"
    },
    "tags": []
   },
   "outputs": [
    {
     "data": {
      "text/plain": [
       "(20000, 10)"
      ]
     },
     "execution_count": 16,
     "metadata": {},
     "output_type": "execute_result"
    }
   ],
   "source": [
    "X_test.shape"
   ]
  },
  {
   "cell_type": "markdown",
   "id": "4765b4ec",
   "metadata": {
    "id": "4765b4ec",
    "papermill": {
     "duration": 0.010714,
     "end_time": "2023-12-01T13:50:21.851039",
     "exception": false,
     "start_time": "2023-12-01T13:50:21.840325",
     "status": "completed"
    },
    "tags": []
   },
   "source": [
    "# Scaling Features"
   ]
  },
  {
   "cell_type": "code",
   "execution_count": 17,
   "id": "73815b88",
   "metadata": {
    "execution": {
     "iopub.execute_input": "2023-12-01T13:50:21.874900Z",
     "iopub.status.busy": "2023-12-01T13:50:21.874247Z",
     "iopub.status.idle": "2023-12-01T13:50:21.878650Z",
     "shell.execute_reply": "2023-12-01T13:50:21.877941Z"
    },
    "executionInfo": {
     "elapsed": 2,
     "status": "ok",
     "timestamp": 1719898828168,
     "user": {
      "displayName": "Yashu",
      "userId": "01822420586054669931"
     },
     "user_tz": -330
    },
    "id": "73815b88",
    "papermill": {
     "duration": 0.018616,
     "end_time": "2023-12-01T13:50:21.880555",
     "exception": false,
     "start_time": "2023-12-01T13:50:21.861939",
     "status": "completed"
    },
    "tags": []
   },
   "outputs": [],
   "source": [
    "scaler = StandardScaler()"
   ]
  },
  {
   "cell_type": "code",
   "execution_count": 18,
   "id": "046219b2",
   "metadata": {
    "execution": {
     "iopub.execute_input": "2023-12-01T13:50:21.961142Z",
     "iopub.status.busy": "2023-12-01T13:50:21.960524Z",
     "iopub.status.idle": "2023-12-01T13:50:21.985308Z",
     "shell.execute_reply": "2023-12-01T13:50:21.984514Z"
    },
    "executionInfo": {
     "elapsed": 3,
     "status": "ok",
     "timestamp": 1719898829708,
     "user": {
      "displayName": "Yashu",
      "userId": "01822420586054669931"
     },
     "user_tz": -330
    },
    "id": "046219b2",
    "papermill": {
     "duration": 0.039575,
     "end_time": "2023-12-01T13:50:21.987555",
     "exception": false,
     "start_time": "2023-12-01T13:50:21.947980",
     "status": "completed"
    },
    "tags": []
   },
   "outputs": [],
   "source": [
    "scaled_train_data=scaler.fit_transform(X_train)\n",
    "scaled_test_data=scaler.fit_transform(X_test)"
   ]
  },
  {
   "cell_type": "markdown",
   "id": "05d53b46",
   "metadata": {
    "id": "05d53b46",
    "papermill": {
     "duration": 0.01073,
     "end_time": "2023-12-01T13:50:22.009420",
     "exception": false,
     "start_time": "2023-12-01T13:50:21.998690",
     "status": "completed"
    },
    "tags": []
   },
   "source": [
    "# Machine Learning algo"
   ]
  },
  {
   "cell_type": "markdown",
   "id": "934f13d0",
   "metadata": {
    "id": "934f13d0",
    "papermill": {
     "duration": 0.010808,
     "end_time": "2023-12-01T13:50:22.031215",
     "exception": false,
     "start_time": "2023-12-01T13:50:22.020407",
     "status": "completed"
    },
    "tags": []
   },
   "source": [
    "## Naive Bayes"
   ]
  },
  {
   "cell_type": "code",
   "execution_count": 19,
   "id": "94135316",
   "metadata": {
    "execution": {
     "iopub.execute_input": "2023-12-01T13:50:22.055702Z",
     "iopub.status.busy": "2023-12-01T13:50:22.055285Z",
     "iopub.status.idle": "2023-12-01T13:50:22.059548Z",
     "shell.execute_reply": "2023-12-01T13:50:22.058481Z"
    },
    "executionInfo": {
     "elapsed": 5,
     "status": "ok",
     "timestamp": 1719898831194,
     "user": {
      "displayName": "Yashu",
      "userId": "01822420586054669931"
     },
     "user_tz": -330
    },
    "id": "94135316",
    "papermill": {
     "duration": 0.01939,
     "end_time": "2023-12-01T13:50:22.061590",
     "exception": false,
     "start_time": "2023-12-01T13:50:22.042200",
     "status": "completed"
    },
    "tags": []
   },
   "outputs": [],
   "source": [
    "naive_bayes = GaussianNB()"
   ]
  },
  {
   "cell_type": "code",
   "execution_count": 20,
   "id": "de6e5353",
   "metadata": {
    "colab": {
     "base_uri": "https://localhost:8080/",
     "height": 75
    },
    "execution": {
     "iopub.execute_input": "2023-12-01T13:50:22.085896Z",
     "iopub.status.busy": "2023-12-01T13:50:22.085255Z",
     "iopub.status.idle": "2023-12-01T13:50:22.116589Z",
     "shell.execute_reply": "2023-12-01T13:50:22.115786Z"
    },
    "executionInfo": {
     "elapsed": 2,
     "status": "ok",
     "timestamp": 1719898832879,
     "user": {
      "displayName": "Yashu",
      "userId": "01822420586054669931"
     },
     "user_tz": -330
    },
    "id": "de6e5353",
    "outputId": "14178f82-fd37-4bbd-e48e-19fb5cc7847a",
    "papermill": {
     "duration": 0.045706,
     "end_time": "2023-12-01T13:50:22.118483",
     "exception": false,
     "start_time": "2023-12-01T13:50:22.072777",
     "status": "completed"
    },
    "tags": []
   },
   "outputs": [
    {
     "data": {
      "text/html": [
       "<style>#sk-container-id-1 {color: black;background-color: white;}#sk-container-id-1 pre{padding: 0;}#sk-container-id-1 div.sk-toggleable {background-color: white;}#sk-container-id-1 label.sk-toggleable__label {cursor: pointer;display: block;width: 100%;margin-bottom: 0;padding: 0.3em;box-sizing: border-box;text-align: center;}#sk-container-id-1 label.sk-toggleable__label-arrow:before {content: \"▸\";float: left;margin-right: 0.25em;color: #696969;}#sk-container-id-1 label.sk-toggleable__label-arrow:hover:before {color: black;}#sk-container-id-1 div.sk-estimator:hover label.sk-toggleable__label-arrow:before {color: black;}#sk-container-id-1 div.sk-toggleable__content {max-height: 0;max-width: 0;overflow: hidden;text-align: left;background-color: #f0f8ff;}#sk-container-id-1 div.sk-toggleable__content pre {margin: 0.2em;color: black;border-radius: 0.25em;background-color: #f0f8ff;}#sk-container-id-1 input.sk-toggleable__control:checked~div.sk-toggleable__content {max-height: 200px;max-width: 100%;overflow: auto;}#sk-container-id-1 input.sk-toggleable__control:checked~label.sk-toggleable__label-arrow:before {content: \"▾\";}#sk-container-id-1 div.sk-estimator input.sk-toggleable__control:checked~label.sk-toggleable__label {background-color: #d4ebff;}#sk-container-id-1 div.sk-label input.sk-toggleable__control:checked~label.sk-toggleable__label {background-color: #d4ebff;}#sk-container-id-1 input.sk-hidden--visually {border: 0;clip: rect(1px 1px 1px 1px);clip: rect(1px, 1px, 1px, 1px);height: 1px;margin: -1px;overflow: hidden;padding: 0;position: absolute;width: 1px;}#sk-container-id-1 div.sk-estimator {font-family: monospace;background-color: #f0f8ff;border: 1px dotted black;border-radius: 0.25em;box-sizing: border-box;margin-bottom: 0.5em;}#sk-container-id-1 div.sk-estimator:hover {background-color: #d4ebff;}#sk-container-id-1 div.sk-parallel-item::after {content: \"\";width: 100%;border-bottom: 1px solid gray;flex-grow: 1;}#sk-container-id-1 div.sk-label:hover label.sk-toggleable__label {background-color: #d4ebff;}#sk-container-id-1 div.sk-serial::before {content: \"\";position: absolute;border-left: 1px solid gray;box-sizing: border-box;top: 0;bottom: 0;left: 50%;z-index: 0;}#sk-container-id-1 div.sk-serial {display: flex;flex-direction: column;align-items: center;background-color: white;padding-right: 0.2em;padding-left: 0.2em;position: relative;}#sk-container-id-1 div.sk-item {position: relative;z-index: 1;}#sk-container-id-1 div.sk-parallel {display: flex;align-items: stretch;justify-content: center;background-color: white;position: relative;}#sk-container-id-1 div.sk-item::before, #sk-container-id-1 div.sk-parallel-item::before {content: \"\";position: absolute;border-left: 1px solid gray;box-sizing: border-box;top: 0;bottom: 0;left: 50%;z-index: -1;}#sk-container-id-1 div.sk-parallel-item {display: flex;flex-direction: column;z-index: 1;position: relative;background-color: white;}#sk-container-id-1 div.sk-parallel-item:first-child::after {align-self: flex-end;width: 50%;}#sk-container-id-1 div.sk-parallel-item:last-child::after {align-self: flex-start;width: 50%;}#sk-container-id-1 div.sk-parallel-item:only-child::after {width: 0;}#sk-container-id-1 div.sk-dashed-wrapped {border: 1px dashed gray;margin: 0 0.4em 0.5em 0.4em;box-sizing: border-box;padding-bottom: 0.4em;background-color: white;}#sk-container-id-1 div.sk-label label {font-family: monospace;font-weight: bold;display: inline-block;line-height: 1.2em;}#sk-container-id-1 div.sk-label-container {text-align: center;}#sk-container-id-1 div.sk-container {/* jupyter's `normalize.less` sets `[hidden] { display: none; }` but bootstrap.min.css set `[hidden] { display: none !important; }` so we also need the `!important` here to be able to override the default hidden behavior on the sphinx rendered scikit-learn.org. See: https://github.com/scikit-learn/scikit-learn/issues/21755 */display: inline-block !important;position: relative;}#sk-container-id-1 div.sk-text-repr-fallback {display: none;}</style><div id=\"sk-container-id-1\" class=\"sk-top-container\"><div class=\"sk-text-repr-fallback\"><pre>GaussianNB()</pre><b>In a Jupyter environment, please rerun this cell to show the HTML representation or trust the notebook. <br />On GitHub, the HTML representation is unable to render, please try loading this page with nbviewer.org.</b></div><div class=\"sk-container\" hidden><div class=\"sk-item\"><div class=\"sk-estimator sk-toggleable\"><input class=\"sk-toggleable__control sk-hidden--visually\" id=\"sk-estimator-id-1\" type=\"checkbox\" checked><label for=\"sk-estimator-id-1\" class=\"sk-toggleable__label sk-toggleable__label-arrow\">GaussianNB</label><div class=\"sk-toggleable__content\"><pre>GaussianNB()</pre></div></div></div></div></div>"
      ],
      "text/plain": [
       "GaussianNB()"
      ]
     },
     "execution_count": 20,
     "metadata": {},
     "output_type": "execute_result"
    }
   ],
   "source": [
    "naive_bayes.fit(scaled_train_data, y_train)"
   ]
  },
  {
   "cell_type": "code",
   "execution_count": 21,
   "id": "a64673c4",
   "metadata": {
    "execution": {
     "iopub.execute_input": "2023-12-01T13:50:22.143650Z",
     "iopub.status.busy": "2023-12-01T13:50:22.142950Z",
     "iopub.status.idle": "2023-12-01T13:50:22.152828Z",
     "shell.execute_reply": "2023-12-01T13:50:22.151754Z"
    },
    "executionInfo": {
     "elapsed": 4,
     "status": "ok",
     "timestamp": 1719898833846,
     "user": {
      "displayName": "Yashu",
      "userId": "01822420586054669931"
     },
     "user_tz": -330
    },
    "id": "a64673c4",
    "papermill": {
     "duration": 0.025169,
     "end_time": "2023-12-01T13:50:22.155211",
     "exception": false,
     "start_time": "2023-12-01T13:50:22.130042",
     "status": "completed"
    },
    "tags": []
   },
   "outputs": [],
   "source": [
    "y_pred = naive_bayes.predict(scaled_test_data)"
   ]
  },
  {
   "cell_type": "code",
   "execution_count": 22,
   "id": "f660946d",
   "metadata": {
    "colab": {
     "base_uri": "https://localhost:8080/"
    },
    "execution": {
     "iopub.execute_input": "2023-12-01T13:50:22.179946Z",
     "iopub.status.busy": "2023-12-01T13:50:22.179557Z",
     "iopub.status.idle": "2023-12-01T13:50:22.232434Z",
     "shell.execute_reply": "2023-12-01T13:50:22.231240Z"
    },
    "executionInfo": {
     "elapsed": 1,
     "status": "ok",
     "timestamp": 1719898835031,
     "user": {
      "displayName": "Yashu",
      "userId": "01822420586054669931"
     },
     "user_tz": -330
    },
    "id": "f660946d",
    "outputId": "c8201a34-e325-4a28-8594-c07beabe703c",
    "papermill": {
     "duration": 0.068117,
     "end_time": "2023-12-01T13:50:22.234957",
     "exception": false,
     "start_time": "2023-12-01T13:50:22.166840",
     "status": "completed"
    },
    "tags": []
   },
   "outputs": [
    {
     "name": "stdout",
     "output_type": "stream",
     "text": [
      "Accuracy: 0.16255\n",
      "Classification Report:\n",
      "              precision    recall  f1-score   support\n",
      "\n",
      "           0       0.16      0.14      0.15      3348\n",
      "           1       0.16      0.12      0.14      3317\n",
      "           2       0.16      0.22      0.19      3296\n",
      "           3       0.15      0.11      0.13      3328\n",
      "           4       0.16      0.09      0.11      3345\n",
      "           5       0.17      0.30      0.22      3366\n",
      "\n",
      "    accuracy                           0.16     20000\n",
      "   macro avg       0.16      0.16      0.15     20000\n",
      "weighted avg       0.16      0.16      0.15     20000\n",
      "\n"
     ]
    }
   ],
   "source": [
    "accuracy = accuracy_score(y_test, y_pred)\n",
    "classification_report_result = classification_report(y_test, y_pred)\n",
    "\n",
    "# Print the results\n",
    "print(f\"Accuracy: {accuracy}\")\n",
    "print(\"Classification Report:\")\n",
    "print(classification_report_result)"
   ]
  },
  {
   "cell_type": "markdown",
   "id": "94ca8516",
   "metadata": {
    "id": "94ca8516",
    "papermill": {
     "duration": 0.011425,
     "end_time": "2023-12-01T13:50:22.257991",
     "exception": false,
     "start_time": "2023-12-01T13:50:22.246566",
     "status": "completed"
    },
    "tags": []
   },
   "source": [
    "## Random forest"
   ]
  },
  {
   "cell_type": "code",
   "execution_count": 23,
   "id": "7132ed33",
   "metadata": {
    "execution": {
     "iopub.execute_input": "2023-12-01T13:50:22.283544Z",
     "iopub.status.busy": "2023-12-01T13:50:22.282780Z",
     "iopub.status.idle": "2023-12-01T13:50:22.287562Z",
     "shell.execute_reply": "2023-12-01T13:50:22.286824Z"
    },
    "executionInfo": {
     "elapsed": 1,
     "status": "ok",
     "timestamp": 1719898836987,
     "user": {
      "displayName": "Yashu",
      "userId": "01822420586054669931"
     },
     "user_tz": -330
    },
    "id": "7132ed33",
    "papermill": {
     "duration": 0.020089,
     "end_time": "2023-12-01T13:50:22.289608",
     "exception": false,
     "start_time": "2023-12-01T13:50:22.269519",
     "status": "completed"
    },
    "tags": []
   },
   "outputs": [],
   "source": [
    "random_forest = RandomForestClassifier(n_estimators=100, random_state=42)"
   ]
  },
  {
   "cell_type": "code",
   "execution_count": 24,
   "id": "beec8dd8",
   "metadata": {
    "colab": {
     "base_uri": "https://localhost:8080/",
     "height": 75
    },
    "execution": {
     "iopub.execute_input": "2023-12-01T13:50:22.314895Z",
     "iopub.status.busy": "2023-12-01T13:50:22.313991Z",
     "iopub.status.idle": "2023-12-01T13:51:04.127964Z",
     "shell.execute_reply": "2023-12-01T13:51:04.126851Z"
    },
    "executionInfo": {
     "elapsed": 44834,
     "status": "ok",
     "timestamp": 1719898883519,
     "user": {
      "displayName": "Yashu",
      "userId": "01822420586054669931"
     },
     "user_tz": -330
    },
    "id": "beec8dd8",
    "outputId": "3d9bd9d3-c4e6-453d-e1e1-58ed57d46f1e",
    "papermill": {
     "duration": 41.840471,
     "end_time": "2023-12-01T13:51:04.141601",
     "exception": false,
     "start_time": "2023-12-01T13:50:22.301130",
     "status": "completed"
    },
    "tags": []
   },
   "outputs": [
    {
     "data": {
      "text/html": [
       "<style>#sk-container-id-2 {color: black;background-color: white;}#sk-container-id-2 pre{padding: 0;}#sk-container-id-2 div.sk-toggleable {background-color: white;}#sk-container-id-2 label.sk-toggleable__label {cursor: pointer;display: block;width: 100%;margin-bottom: 0;padding: 0.3em;box-sizing: border-box;text-align: center;}#sk-container-id-2 label.sk-toggleable__label-arrow:before {content: \"▸\";float: left;margin-right: 0.25em;color: #696969;}#sk-container-id-2 label.sk-toggleable__label-arrow:hover:before {color: black;}#sk-container-id-2 div.sk-estimator:hover label.sk-toggleable__label-arrow:before {color: black;}#sk-container-id-2 div.sk-toggleable__content {max-height: 0;max-width: 0;overflow: hidden;text-align: left;background-color: #f0f8ff;}#sk-container-id-2 div.sk-toggleable__content pre {margin: 0.2em;color: black;border-radius: 0.25em;background-color: #f0f8ff;}#sk-container-id-2 input.sk-toggleable__control:checked~div.sk-toggleable__content {max-height: 200px;max-width: 100%;overflow: auto;}#sk-container-id-2 input.sk-toggleable__control:checked~label.sk-toggleable__label-arrow:before {content: \"▾\";}#sk-container-id-2 div.sk-estimator input.sk-toggleable__control:checked~label.sk-toggleable__label {background-color: #d4ebff;}#sk-container-id-2 div.sk-label input.sk-toggleable__control:checked~label.sk-toggleable__label {background-color: #d4ebff;}#sk-container-id-2 input.sk-hidden--visually {border: 0;clip: rect(1px 1px 1px 1px);clip: rect(1px, 1px, 1px, 1px);height: 1px;margin: -1px;overflow: hidden;padding: 0;position: absolute;width: 1px;}#sk-container-id-2 div.sk-estimator {font-family: monospace;background-color: #f0f8ff;border: 1px dotted black;border-radius: 0.25em;box-sizing: border-box;margin-bottom: 0.5em;}#sk-container-id-2 div.sk-estimator:hover {background-color: #d4ebff;}#sk-container-id-2 div.sk-parallel-item::after {content: \"\";width: 100%;border-bottom: 1px solid gray;flex-grow: 1;}#sk-container-id-2 div.sk-label:hover label.sk-toggleable__label {background-color: #d4ebff;}#sk-container-id-2 div.sk-serial::before {content: \"\";position: absolute;border-left: 1px solid gray;box-sizing: border-box;top: 0;bottom: 0;left: 50%;z-index: 0;}#sk-container-id-2 div.sk-serial {display: flex;flex-direction: column;align-items: center;background-color: white;padding-right: 0.2em;padding-left: 0.2em;position: relative;}#sk-container-id-2 div.sk-item {position: relative;z-index: 1;}#sk-container-id-2 div.sk-parallel {display: flex;align-items: stretch;justify-content: center;background-color: white;position: relative;}#sk-container-id-2 div.sk-item::before, #sk-container-id-2 div.sk-parallel-item::before {content: \"\";position: absolute;border-left: 1px solid gray;box-sizing: border-box;top: 0;bottom: 0;left: 50%;z-index: -1;}#sk-container-id-2 div.sk-parallel-item {display: flex;flex-direction: column;z-index: 1;position: relative;background-color: white;}#sk-container-id-2 div.sk-parallel-item:first-child::after {align-self: flex-end;width: 50%;}#sk-container-id-2 div.sk-parallel-item:last-child::after {align-self: flex-start;width: 50%;}#sk-container-id-2 div.sk-parallel-item:only-child::after {width: 0;}#sk-container-id-2 div.sk-dashed-wrapped {border: 1px dashed gray;margin: 0 0.4em 0.5em 0.4em;box-sizing: border-box;padding-bottom: 0.4em;background-color: white;}#sk-container-id-2 div.sk-label label {font-family: monospace;font-weight: bold;display: inline-block;line-height: 1.2em;}#sk-container-id-2 div.sk-label-container {text-align: center;}#sk-container-id-2 div.sk-container {/* jupyter's `normalize.less` sets `[hidden] { display: none; }` but bootstrap.min.css set `[hidden] { display: none !important; }` so we also need the `!important` here to be able to override the default hidden behavior on the sphinx rendered scikit-learn.org. See: https://github.com/scikit-learn/scikit-learn/issues/21755 */display: inline-block !important;position: relative;}#sk-container-id-2 div.sk-text-repr-fallback {display: none;}</style><div id=\"sk-container-id-2\" class=\"sk-top-container\"><div class=\"sk-text-repr-fallback\"><pre>RandomForestClassifier(random_state=42)</pre><b>In a Jupyter environment, please rerun this cell to show the HTML representation or trust the notebook. <br />On GitHub, the HTML representation is unable to render, please try loading this page with nbviewer.org.</b></div><div class=\"sk-container\" hidden><div class=\"sk-item\"><div class=\"sk-estimator sk-toggleable\"><input class=\"sk-toggleable__control sk-hidden--visually\" id=\"sk-estimator-id-2\" type=\"checkbox\" checked><label for=\"sk-estimator-id-2\" class=\"sk-toggleable__label sk-toggleable__label-arrow\">RandomForestClassifier</label><div class=\"sk-toggleable__content\"><pre>RandomForestClassifier(random_state=42)</pre></div></div></div></div></div>"
      ],
      "text/plain": [
       "RandomForestClassifier(random_state=42)"
      ]
     },
     "execution_count": 24,
     "metadata": {},
     "output_type": "execute_result"
    }
   ],
   "source": [
    "random_forest.fit(scaled_train_data, y_train)"
   ]
  },
  {
   "cell_type": "code",
   "execution_count": 25,
   "id": "bf38a79e",
   "metadata": {
    "execution": {
     "iopub.execute_input": "2023-12-01T13:51:04.167460Z",
     "iopub.status.busy": "2023-12-01T13:51:04.167037Z",
     "iopub.status.idle": "2023-12-01T13:51:05.080896Z",
     "shell.execute_reply": "2023-12-01T13:51:05.079904Z"
    },
    "executionInfo": {
     "elapsed": 1254,
     "status": "ok",
     "timestamp": 1719898885868,
     "user": {
      "displayName": "Yashu",
      "userId": "01822420586054669931"
     },
     "user_tz": -330
    },
    "id": "bf38a79e",
    "papermill": {
     "duration": 0.929859,
     "end_time": "2023-12-01T13:51:05.083463",
     "exception": false,
     "start_time": "2023-12-01T13:51:04.153604",
     "status": "completed"
    },
    "tags": []
   },
   "outputs": [],
   "source": [
    "y_pred = random_forest.predict(scaled_test_data)"
   ]
  },
  {
   "cell_type": "code",
   "execution_count": null,
   "id": "0ff49b48",
   "metadata": {
    "execution": {
     "iopub.execute_input": "2023-12-01T13:51:05.109175Z",
     "iopub.status.busy": "2023-12-01T13:51:05.108790Z",
     "iopub.status.idle": "2023-12-01T13:51:05.158748Z",
     "shell.execute_reply": "2023-12-01T13:51:05.158020Z"
    },
    "id": "0ff49b48",
    "outputId": "5511eba1-0d10-4c22-e79a-f58e1fe0642b",
    "papermill": {
     "duration": 0.065348,
     "end_time": "2023-12-01T13:51:05.160888",
     "exception": false,
     "start_time": "2023-12-01T13:51:05.095540",
     "status": "completed"
    },
    "tags": []
   },
   "outputs": [
    {
     "name": "stdout",
     "output_type": "stream",
     "text": [
      "Accuracy: 0.16955\n",
      "Classification Report:\n",
      "              precision    recall  f1-score   support\n",
      "\n",
      "           0       0.18      0.20      0.19      3348\n",
      "           1       0.16      0.17      0.17      3317\n",
      "           2       0.17      0.18      0.17      3296\n",
      "           3       0.17      0.16      0.16      3328\n",
      "           4       0.17      0.15      0.16      3345\n",
      "           5       0.17      0.16      0.17      3366\n",
      "\n",
      "    accuracy                           0.17     20000\n",
      "   macro avg       0.17      0.17      0.17     20000\n",
      "weighted avg       0.17      0.17      0.17     20000\n",
      "\n"
     ]
    }
   ],
   "source": [
    "accuracy = accuracy_score(y_test, y_pred)\n",
    "classification_report_result = classification_report(y_test, y_pred)\n",
    "\n",
    "# Print the results\n",
    "print(f\"Accuracy: {accuracy}\")\n",
    "print(\"Classification Report:\")\n",
    "print(classification_report_result)"
   ]
  },
  {
   "cell_type": "markdown",
   "id": "9daa385c",
   "metadata": {
    "id": "9daa385c",
    "papermill": {
     "duration": 0.011511,
     "end_time": "2023-12-01T13:51:05.184218",
     "exception": false,
     "start_time": "2023-12-01T13:51:05.172707",
     "status": "completed"
    },
    "tags": []
   },
   "source": [
    "## Decision Tree"
   ]
  },
  {
   "cell_type": "code",
   "execution_count": 26,
   "id": "e7628301",
   "metadata": {
    "execution": {
     "iopub.execute_input": "2023-12-01T13:51:05.210079Z",
     "iopub.status.busy": "2023-12-01T13:51:05.209668Z",
     "iopub.status.idle": "2023-12-01T13:51:05.214178Z",
     "shell.execute_reply": "2023-12-01T13:51:05.213069Z"
    },
    "executionInfo": {
     "elapsed": 408,
     "status": "ok",
     "timestamp": 1719898898601,
     "user": {
      "displayName": "Yashu",
      "userId": "01822420586054669931"
     },
     "user_tz": -330
    },
    "id": "e7628301",
    "papermill": {
     "duration": 0.02014,
     "end_time": "2023-12-01T13:51:05.216147",
     "exception": false,
     "start_time": "2023-12-01T13:51:05.196007",
     "status": "completed"
    },
    "tags": []
   },
   "outputs": [],
   "source": [
    "decision_tree = DecisionTreeClassifier(random_state=42)"
   ]
  },
  {
   "cell_type": "code",
   "execution_count": 27,
   "id": "50880e94",
   "metadata": {
    "colab": {
     "base_uri": "https://localhost:8080/",
     "height": 75
    },
    "execution": {
     "iopub.execute_input": "2023-12-01T13:51:05.243074Z",
     "iopub.status.busy": "2023-12-01T13:51:05.242385Z",
     "iopub.status.idle": "2023-12-01T13:51:07.082099Z",
     "shell.execute_reply": "2023-12-01T13:51:07.081030Z"
    },
    "executionInfo": {
     "elapsed": 1556,
     "status": "ok",
     "timestamp": 1719898901709,
     "user": {
      "displayName": "Yashu",
      "userId": "01822420586054669931"
     },
     "user_tz": -330
    },
    "id": "50880e94",
    "outputId": "32425e4f-2430-4869-9f87-a8dbdb855db0",
    "papermill": {
     "duration": 1.855926,
     "end_time": "2023-12-01T13:51:07.084584",
     "exception": false,
     "start_time": "2023-12-01T13:51:05.228658",
     "status": "completed"
    },
    "tags": []
   },
   "outputs": [
    {
     "data": {
      "text/html": [
       "<style>#sk-container-id-3 {color: black;background-color: white;}#sk-container-id-3 pre{padding: 0;}#sk-container-id-3 div.sk-toggleable {background-color: white;}#sk-container-id-3 label.sk-toggleable__label {cursor: pointer;display: block;width: 100%;margin-bottom: 0;padding: 0.3em;box-sizing: border-box;text-align: center;}#sk-container-id-3 label.sk-toggleable__label-arrow:before {content: \"▸\";float: left;margin-right: 0.25em;color: #696969;}#sk-container-id-3 label.sk-toggleable__label-arrow:hover:before {color: black;}#sk-container-id-3 div.sk-estimator:hover label.sk-toggleable__label-arrow:before {color: black;}#sk-container-id-3 div.sk-toggleable__content {max-height: 0;max-width: 0;overflow: hidden;text-align: left;background-color: #f0f8ff;}#sk-container-id-3 div.sk-toggleable__content pre {margin: 0.2em;color: black;border-radius: 0.25em;background-color: #f0f8ff;}#sk-container-id-3 input.sk-toggleable__control:checked~div.sk-toggleable__content {max-height: 200px;max-width: 100%;overflow: auto;}#sk-container-id-3 input.sk-toggleable__control:checked~label.sk-toggleable__label-arrow:before {content: \"▾\";}#sk-container-id-3 div.sk-estimator input.sk-toggleable__control:checked~label.sk-toggleable__label {background-color: #d4ebff;}#sk-container-id-3 div.sk-label input.sk-toggleable__control:checked~label.sk-toggleable__label {background-color: #d4ebff;}#sk-container-id-3 input.sk-hidden--visually {border: 0;clip: rect(1px 1px 1px 1px);clip: rect(1px, 1px, 1px, 1px);height: 1px;margin: -1px;overflow: hidden;padding: 0;position: absolute;width: 1px;}#sk-container-id-3 div.sk-estimator {font-family: monospace;background-color: #f0f8ff;border: 1px dotted black;border-radius: 0.25em;box-sizing: border-box;margin-bottom: 0.5em;}#sk-container-id-3 div.sk-estimator:hover {background-color: #d4ebff;}#sk-container-id-3 div.sk-parallel-item::after {content: \"\";width: 100%;border-bottom: 1px solid gray;flex-grow: 1;}#sk-container-id-3 div.sk-label:hover label.sk-toggleable__label {background-color: #d4ebff;}#sk-container-id-3 div.sk-serial::before {content: \"\";position: absolute;border-left: 1px solid gray;box-sizing: border-box;top: 0;bottom: 0;left: 50%;z-index: 0;}#sk-container-id-3 div.sk-serial {display: flex;flex-direction: column;align-items: center;background-color: white;padding-right: 0.2em;padding-left: 0.2em;position: relative;}#sk-container-id-3 div.sk-item {position: relative;z-index: 1;}#sk-container-id-3 div.sk-parallel {display: flex;align-items: stretch;justify-content: center;background-color: white;position: relative;}#sk-container-id-3 div.sk-item::before, #sk-container-id-3 div.sk-parallel-item::before {content: \"\";position: absolute;border-left: 1px solid gray;box-sizing: border-box;top: 0;bottom: 0;left: 50%;z-index: -1;}#sk-container-id-3 div.sk-parallel-item {display: flex;flex-direction: column;z-index: 1;position: relative;background-color: white;}#sk-container-id-3 div.sk-parallel-item:first-child::after {align-self: flex-end;width: 50%;}#sk-container-id-3 div.sk-parallel-item:last-child::after {align-self: flex-start;width: 50%;}#sk-container-id-3 div.sk-parallel-item:only-child::after {width: 0;}#sk-container-id-3 div.sk-dashed-wrapped {border: 1px dashed gray;margin: 0 0.4em 0.5em 0.4em;box-sizing: border-box;padding-bottom: 0.4em;background-color: white;}#sk-container-id-3 div.sk-label label {font-family: monospace;font-weight: bold;display: inline-block;line-height: 1.2em;}#sk-container-id-3 div.sk-label-container {text-align: center;}#sk-container-id-3 div.sk-container {/* jupyter's `normalize.less` sets `[hidden] { display: none; }` but bootstrap.min.css set `[hidden] { display: none !important; }` so we also need the `!important` here to be able to override the default hidden behavior on the sphinx rendered scikit-learn.org. See: https://github.com/scikit-learn/scikit-learn/issues/21755 */display: inline-block !important;position: relative;}#sk-container-id-3 div.sk-text-repr-fallback {display: none;}</style><div id=\"sk-container-id-3\" class=\"sk-top-container\"><div class=\"sk-text-repr-fallback\"><pre>DecisionTreeClassifier(random_state=42)</pre><b>In a Jupyter environment, please rerun this cell to show the HTML representation or trust the notebook. <br />On GitHub, the HTML representation is unable to render, please try loading this page with nbviewer.org.</b></div><div class=\"sk-container\" hidden><div class=\"sk-item\"><div class=\"sk-estimator sk-toggleable\"><input class=\"sk-toggleable__control sk-hidden--visually\" id=\"sk-estimator-id-3\" type=\"checkbox\" checked><label for=\"sk-estimator-id-3\" class=\"sk-toggleable__label sk-toggleable__label-arrow\">DecisionTreeClassifier</label><div class=\"sk-toggleable__content\"><pre>DecisionTreeClassifier(random_state=42)</pre></div></div></div></div></div>"
      ],
      "text/plain": [
       "DecisionTreeClassifier(random_state=42)"
      ]
     },
     "execution_count": 27,
     "metadata": {},
     "output_type": "execute_result"
    }
   ],
   "source": [
    "decision_tree.fit(scaled_train_data, y_train)"
   ]
  },
  {
   "cell_type": "code",
   "execution_count": null,
   "id": "2e180009",
   "metadata": {
    "execution": {
     "iopub.execute_input": "2023-12-01T13:51:07.111033Z",
     "iopub.status.busy": "2023-12-01T13:51:07.110365Z",
     "iopub.status.idle": "2023-12-01T13:51:07.125884Z",
     "shell.execute_reply": "2023-12-01T13:51:07.124873Z"
    },
    "id": "2e180009",
    "papermill": {
     "duration": 0.031694,
     "end_time": "2023-12-01T13:51:07.128570",
     "exception": false,
     "start_time": "2023-12-01T13:51:07.096876",
     "status": "completed"
    },
    "tags": []
   },
   "outputs": [],
   "source": [
    "y_pred = decision_tree.predict(scaled_test_data)"
   ]
  },
  {
   "cell_type": "code",
   "execution_count": 28,
   "id": "84457809",
   "metadata": {
    "colab": {
     "base_uri": "https://localhost:8080/"
    },
    "execution": {
     "iopub.execute_input": "2023-12-01T13:51:07.155307Z",
     "iopub.status.busy": "2023-12-01T13:51:07.154662Z",
     "iopub.status.idle": "2023-12-01T13:51:07.207521Z",
     "shell.execute_reply": "2023-12-01T13:51:07.205775Z"
    },
    "executionInfo": {
     "elapsed": 410,
     "status": "ok",
     "timestamp": 1719898903689,
     "user": {
      "displayName": "Yashu",
      "userId": "01822420586054669931"
     },
     "user_tz": -330
    },
    "id": "84457809",
    "outputId": "f9c81608-b52e-435c-8fa5-42054d6cbc9a",
    "papermill": {
     "duration": 0.069006,
     "end_time": "2023-12-01T13:51:07.210067",
     "exception": false,
     "start_time": "2023-12-01T13:51:07.141061",
     "status": "completed"
    },
    "tags": []
   },
   "outputs": [
    {
     "name": "stdout",
     "output_type": "stream",
     "text": [
      "Accuracy: 0.16955\n",
      "Classification Report:\n",
      "              precision    recall  f1-score   support\n",
      "\n",
      "           0       0.18      0.20      0.19      3348\n",
      "           1       0.16      0.17      0.17      3317\n",
      "           2       0.17      0.18      0.17      3296\n",
      "           3       0.17      0.16      0.16      3328\n",
      "           4       0.17      0.15      0.16      3345\n",
      "           5       0.17      0.16      0.17      3366\n",
      "\n",
      "    accuracy                           0.17     20000\n",
      "   macro avg       0.17      0.17      0.17     20000\n",
      "weighted avg       0.17      0.17      0.17     20000\n",
      "\n"
     ]
    }
   ],
   "source": [
    "accuracy = accuracy_score(y_test, y_pred)\n",
    "classification_report_result = classification_report(y_test, y_pred)\n",
    "\n",
    "# Print the results\n",
    "print(f\"Accuracy: {accuracy}\")\n",
    "print(\"Classification Report:\")\n",
    "print(classification_report_result)"
   ]
  },
  {
   "cell_type": "code",
   "execution_count": 33,
   "id": "DkjN8zBi-Rr7",
   "metadata": {
    "colab": {
     "base_uri": "https://localhost:8080/",
     "height": 206
    },
    "executionInfo": {
     "elapsed": 1397,
     "status": "ok",
     "timestamp": 1719899088724,
     "user": {
      "displayName": "Yashu",
      "userId": "01822420586054669931"
     },
     "user_tz": -330
    },
    "id": "DkjN8zBi-Rr7",
    "outputId": "95803439-0912-4ba8-f97a-1c2392fe3696"
   },
   "outputs": [
    {
     "data": {
      "application/vnd.google.colaboratory.intrinsic+json": {
       "summary": "{\n  \"name\": \"df\",\n  \"rows\": 400,\n  \"fields\": [\n    {\n      \"column\": \"date \",\n      \"properties\": {\n        \"dtype\": \"string\",\n        \"num_unique_values\": 400,\n        \"samples\": [\n          \"29/07/2021\",\n          \"8/10/2021\",\n          \"3/02/2021\"\n        ],\n        \"semantic_type\": \"\",\n        \"description\": \"\"\n      }\n    },\n    {\n      \"column\": \"hair_loss\",\n      \"properties\": {\n        \"dtype\": \"category\",\n        \"num_unique_values\": 4,\n        \"samples\": [\n          \"Medium\",\n          \"A lot\",\n          \"Few\"\n        ],\n        \"semantic_type\": \"\",\n        \"description\": \"\"\n      }\n    },\n    {\n      \"column\": \"stay_up_late\",\n      \"properties\": {\n        \"dtype\": \"number\",\n        \"std\": 1,\n        \"min\": 0,\n        \"max\": 8,\n        \"num_unique_values\": 8,\n        \"samples\": [\n          0,\n          5,\n          2\n        ],\n        \"semantic_type\": \"\",\n        \"description\": \"\"\n      }\n    },\n    {\n      \"column\": \"pressure_level\",\n      \"properties\": {\n        \"dtype\": \"category\",\n        \"num_unique_values\": 4,\n        \"samples\": [\n          \"Medium\",\n          \"Very High\",\n          \"Low\"\n        ],\n        \"semantic_type\": \"\",\n        \"description\": \"\"\n      }\n    },\n    {\n      \"column\": \"coffee_consumed\",\n      \"properties\": {\n        \"dtype\": \"number\",\n        \"std\": 1,\n        \"min\": 0,\n        \"max\": 10,\n        \"num_unique_values\": 11,\n        \"samples\": [\n          5,\n          0,\n          9\n        ],\n        \"semantic_type\": \"\",\n        \"description\": \"\"\n      }\n    },\n    {\n      \"column\": \"brain_working_duration\",\n      \"properties\": {\n        \"dtype\": \"number\",\n        \"std\": 4,\n        \"min\": 0,\n        \"max\": 18,\n        \"num_unique_values\": 15,\n        \"samples\": [\n          10,\n          13,\n          1\n        ],\n        \"semantic_type\": \"\",\n        \"description\": \"\"\n      }\n    },\n    {\n      \"column\": \"school_assesssment\",\n      \"properties\": {\n        \"dtype\": \"category\",\n        \"num_unique_values\": 4,\n        \"samples\": [\n          \"Team ass\",\n          \"Final exam\",\n          \"Individual ass\"\n        ],\n        \"semantic_type\": \"\",\n        \"description\": \"\"\n      }\n    },\n    {\n      \"column\": \"stress_level\",\n      \"properties\": {\n        \"dtype\": \"category\",\n        \"num_unique_values\": 4,\n        \"samples\": [\n          \"Medium\",\n          \"Very High\",\n          \"Low\"\n        ],\n        \"semantic_type\": \"\",\n        \"description\": \"\"\n      }\n    },\n    {\n      \"column\": \"shampoo_brand\",\n      \"properties\": {\n        \"dtype\": \"category\",\n        \"num_unique_values\": 2,\n        \"samples\": [\n          \"Hair & Shoulder\",\n          \"Pantene\"\n        ],\n        \"semantic_type\": \"\",\n        \"description\": \"\"\n      }\n    },\n    {\n      \"column\": \"swimming\",\n      \"properties\": {\n        \"dtype\": \"category\",\n        \"num_unique_values\": 2,\n        \"samples\": [\n          \"Yes\",\n          \"No\"\n        ],\n        \"semantic_type\": \"\",\n        \"description\": \"\"\n      }\n    },\n    {\n      \"column\": \"hair_washing\",\n      \"properties\": {\n        \"dtype\": \"category\",\n        \"num_unique_values\": 2,\n        \"samples\": [\n          \"N\",\n          \"Y\"\n        ],\n        \"semantic_type\": \"\",\n        \"description\": \"\"\n      }\n    },\n    {\n      \"column\": \"hair_grease\",\n      \"properties\": {\n        \"dtype\": \"number\",\n        \"std\": 1.2761620956651547,\n        \"min\": 1.0,\n        \"max\": 5.0,\n        \"num_unique_values\": 5,\n        \"samples\": [\n          1.0,\n          5.0\n        ],\n        \"semantic_type\": \"\",\n        \"description\": \"\"\n      }\n    },\n    {\n      \"column\": \"dandruff\",\n      \"properties\": {\n        \"dtype\": \"category\",\n        \"num_unique_values\": 2,\n        \"samples\": [\n          \"Many\",\n          \"Few\"\n        ],\n        \"semantic_type\": \"\",\n        \"description\": \"\"\n      }\n    },\n    {\n      \"column\": \"libido\",\n      \"properties\": {\n        \"dtype\": \"number\",\n        \"std\": 1,\n        \"min\": 0,\n        \"max\": 5,\n        \"num_unique_values\": 6,\n        \"samples\": [\n          1,\n          2\n        ],\n        \"semantic_type\": \"\",\n        \"description\": \"\"\n      }\n    }\n  ]\n}",
       "type": "dataframe",
       "variable_name": "df"
      },
      "text/html": [
       "\n",
       "  <div id=\"df-041d146c-4cf0-4e98-9e70-72df203df1cb\" class=\"colab-df-container\">\n",
       "    <div>\n",
       "<style scoped>\n",
       "    .dataframe tbody tr th:only-of-type {\n",
       "        vertical-align: middle;\n",
       "    }\n",
       "\n",
       "    .dataframe tbody tr th {\n",
       "        vertical-align: top;\n",
       "    }\n",
       "\n",
       "    .dataframe thead th {\n",
       "        text-align: right;\n",
       "    }\n",
       "</style>\n",
       "<table border=\"1\" class=\"dataframe\">\n",
       "  <thead>\n",
       "    <tr style=\"text-align: right;\">\n",
       "      <th></th>\n",
       "      <th>date</th>\n",
       "      <th>hair_loss</th>\n",
       "      <th>stay_up_late</th>\n",
       "      <th>pressure_level</th>\n",
       "      <th>coffee_consumed</th>\n",
       "      <th>brain_working_duration</th>\n",
       "      <th>school_assesssment</th>\n",
       "      <th>stress_level</th>\n",
       "      <th>shampoo_brand</th>\n",
       "      <th>swimming</th>\n",
       "      <th>hair_washing</th>\n",
       "      <th>hair_grease</th>\n",
       "      <th>dandruff</th>\n",
       "      <th>libido</th>\n",
       "    </tr>\n",
       "  </thead>\n",
       "  <tbody>\n",
       "    <tr>\n",
       "      <th>0</th>\n",
       "      <td>1/01/2021</td>\n",
       "      <td>Few</td>\n",
       "      <td>2</td>\n",
       "      <td>Low</td>\n",
       "      <td>0</td>\n",
       "      <td>1</td>\n",
       "      <td>NaN</td>\n",
       "      <td>Low</td>\n",
       "      <td>Pantene</td>\n",
       "      <td>No</td>\n",
       "      <td>Y</td>\n",
       "      <td>3.0</td>\n",
       "      <td>NaN</td>\n",
       "      <td>1</td>\n",
       "    </tr>\n",
       "    <tr>\n",
       "      <th>1</th>\n",
       "      <td>2/01/2021</td>\n",
       "      <td>Few</td>\n",
       "      <td>0</td>\n",
       "      <td>Low</td>\n",
       "      <td>0</td>\n",
       "      <td>3</td>\n",
       "      <td>NaN</td>\n",
       "      <td>Low</td>\n",
       "      <td>Pantene</td>\n",
       "      <td>No</td>\n",
       "      <td>N</td>\n",
       "      <td>1.0</td>\n",
       "      <td>NaN</td>\n",
       "      <td>1</td>\n",
       "    </tr>\n",
       "    <tr>\n",
       "      <th>2</th>\n",
       "      <td>3/01/2021</td>\n",
       "      <td>Medium</td>\n",
       "      <td>3</td>\n",
       "      <td>Low</td>\n",
       "      <td>1</td>\n",
       "      <td>0</td>\n",
       "      <td>NaN</td>\n",
       "      <td>Low</td>\n",
       "      <td>Pantene</td>\n",
       "      <td>Yes</td>\n",
       "      <td>Y</td>\n",
       "      <td>2.0</td>\n",
       "      <td>NaN</td>\n",
       "      <td>2</td>\n",
       "    </tr>\n",
       "    <tr>\n",
       "      <th>3</th>\n",
       "      <td>4/01/2021</td>\n",
       "      <td>Few</td>\n",
       "      <td>2</td>\n",
       "      <td>Low</td>\n",
       "      <td>0</td>\n",
       "      <td>1</td>\n",
       "      <td>NaN</td>\n",
       "      <td>Low</td>\n",
       "      <td>Pantene</td>\n",
       "      <td>No</td>\n",
       "      <td>N</td>\n",
       "      <td>3.0</td>\n",
       "      <td>NaN</td>\n",
       "      <td>3</td>\n",
       "    </tr>\n",
       "    <tr>\n",
       "      <th>4</th>\n",
       "      <td>5/01/2021</td>\n",
       "      <td>Few</td>\n",
       "      <td>2</td>\n",
       "      <td>Low</td>\n",
       "      <td>0</td>\n",
       "      <td>1</td>\n",
       "      <td>NaN</td>\n",
       "      <td>Low</td>\n",
       "      <td>Pantene</td>\n",
       "      <td>No</td>\n",
       "      <td>Y</td>\n",
       "      <td>1.0</td>\n",
       "      <td>NaN</td>\n",
       "      <td>2</td>\n",
       "    </tr>\n",
       "  </tbody>\n",
       "</table>\n",
       "</div>\n",
       "    <div class=\"colab-df-buttons\">\n",
       "\n",
       "  <div class=\"colab-df-container\">\n",
       "    <button class=\"colab-df-convert\" onclick=\"convertToInteractive('df-041d146c-4cf0-4e98-9e70-72df203df1cb')\"\n",
       "            title=\"Convert this dataframe to an interactive table.\"\n",
       "            style=\"display:none;\">\n",
       "\n",
       "  <svg xmlns=\"http://www.w3.org/2000/svg\" height=\"24px\" viewBox=\"0 -960 960 960\">\n",
       "    <path d=\"M120-120v-720h720v720H120Zm60-500h600v-160H180v160Zm220 220h160v-160H400v160Zm0 220h160v-160H400v160ZM180-400h160v-160H180v160Zm440 0h160v-160H620v160ZM180-180h160v-160H180v160Zm440 0h160v-160H620v160Z\"/>\n",
       "  </svg>\n",
       "    </button>\n",
       "\n",
       "  <style>\n",
       "    .colab-df-container {\n",
       "      display:flex;\n",
       "      gap: 12px;\n",
       "    }\n",
       "\n",
       "    .colab-df-convert {\n",
       "      background-color: #E8F0FE;\n",
       "      border: none;\n",
       "      border-radius: 50%;\n",
       "      cursor: pointer;\n",
       "      display: none;\n",
       "      fill: #1967D2;\n",
       "      height: 32px;\n",
       "      padding: 0 0 0 0;\n",
       "      width: 32px;\n",
       "    }\n",
       "\n",
       "    .colab-df-convert:hover {\n",
       "      background-color: #E2EBFA;\n",
       "      box-shadow: 0px 1px 2px rgba(60, 64, 67, 0.3), 0px 1px 3px 1px rgba(60, 64, 67, 0.15);\n",
       "      fill: #174EA6;\n",
       "    }\n",
       "\n",
       "    .colab-df-buttons div {\n",
       "      margin-bottom: 4px;\n",
       "    }\n",
       "\n",
       "    [theme=dark] .colab-df-convert {\n",
       "      background-color: #3B4455;\n",
       "      fill: #D2E3FC;\n",
       "    }\n",
       "\n",
       "    [theme=dark] .colab-df-convert:hover {\n",
       "      background-color: #434B5C;\n",
       "      box-shadow: 0px 1px 3px 1px rgba(0, 0, 0, 0.15);\n",
       "      filter: drop-shadow(0px 1px 2px rgba(0, 0, 0, 0.3));\n",
       "      fill: #FFFFFF;\n",
       "    }\n",
       "  </style>\n",
       "\n",
       "    <script>\n",
       "      const buttonEl =\n",
       "        document.querySelector('#df-041d146c-4cf0-4e98-9e70-72df203df1cb button.colab-df-convert');\n",
       "      buttonEl.style.display =\n",
       "        google.colab.kernel.accessAllowed ? 'block' : 'none';\n",
       "\n",
       "      async function convertToInteractive(key) {\n",
       "        const element = document.querySelector('#df-041d146c-4cf0-4e98-9e70-72df203df1cb');\n",
       "        const dataTable =\n",
       "          await google.colab.kernel.invokeFunction('convertToInteractive',\n",
       "                                                    [key], {});\n",
       "        if (!dataTable) return;\n",
       "\n",
       "        const docLinkHtml = 'Like what you see? Visit the ' +\n",
       "          '<a target=\"_blank\" href=https://colab.research.google.com/notebooks/data_table.ipynb>data table notebook</a>'\n",
       "          + ' to learn more about interactive tables.';\n",
       "        element.innerHTML = '';\n",
       "        dataTable['output_type'] = 'display_data';\n",
       "        await google.colab.output.renderOutput(dataTable, element);\n",
       "        const docLink = document.createElement('div');\n",
       "        docLink.innerHTML = docLinkHtml;\n",
       "        element.appendChild(docLink);\n",
       "      }\n",
       "    </script>\n",
       "  </div>\n",
       "\n",
       "\n",
       "<div id=\"df-44132cf1-0e07-4f42-8176-4f66ab7345fa\">\n",
       "  <button class=\"colab-df-quickchart\" onclick=\"quickchart('df-44132cf1-0e07-4f42-8176-4f66ab7345fa')\"\n",
       "            title=\"Suggest charts\"\n",
       "            style=\"display:none;\">\n",
       "\n",
       "<svg xmlns=\"http://www.w3.org/2000/svg\" height=\"24px\"viewBox=\"0 0 24 24\"\n",
       "     width=\"24px\">\n",
       "    <g>\n",
       "        <path d=\"M19 3H5c-1.1 0-2 .9-2 2v14c0 1.1.9 2 2 2h14c1.1 0 2-.9 2-2V5c0-1.1-.9-2-2-2zM9 17H7v-7h2v7zm4 0h-2V7h2v10zm4 0h-2v-4h2v4z\"/>\n",
       "    </g>\n",
       "</svg>\n",
       "  </button>\n",
       "\n",
       "<style>\n",
       "  .colab-df-quickchart {\n",
       "      --bg-color: #E8F0FE;\n",
       "      --fill-color: #1967D2;\n",
       "      --hover-bg-color: #E2EBFA;\n",
       "      --hover-fill-color: #174EA6;\n",
       "      --disabled-fill-color: #AAA;\n",
       "      --disabled-bg-color: #DDD;\n",
       "  }\n",
       "\n",
       "  [theme=dark] .colab-df-quickchart {\n",
       "      --bg-color: #3B4455;\n",
       "      --fill-color: #D2E3FC;\n",
       "      --hover-bg-color: #434B5C;\n",
       "      --hover-fill-color: #FFFFFF;\n",
       "      --disabled-bg-color: #3B4455;\n",
       "      --disabled-fill-color: #666;\n",
       "  }\n",
       "\n",
       "  .colab-df-quickchart {\n",
       "    background-color: var(--bg-color);\n",
       "    border: none;\n",
       "    border-radius: 50%;\n",
       "    cursor: pointer;\n",
       "    display: none;\n",
       "    fill: var(--fill-color);\n",
       "    height: 32px;\n",
       "    padding: 0;\n",
       "    width: 32px;\n",
       "  }\n",
       "\n",
       "  .colab-df-quickchart:hover {\n",
       "    background-color: var(--hover-bg-color);\n",
       "    box-shadow: 0 1px 2px rgba(60, 64, 67, 0.3), 0 1px 3px 1px rgba(60, 64, 67, 0.15);\n",
       "    fill: var(--button-hover-fill-color);\n",
       "  }\n",
       "\n",
       "  .colab-df-quickchart-complete:disabled,\n",
       "  .colab-df-quickchart-complete:disabled:hover {\n",
       "    background-color: var(--disabled-bg-color);\n",
       "    fill: var(--disabled-fill-color);\n",
       "    box-shadow: none;\n",
       "  }\n",
       "\n",
       "  .colab-df-spinner {\n",
       "    border: 2px solid var(--fill-color);\n",
       "    border-color: transparent;\n",
       "    border-bottom-color: var(--fill-color);\n",
       "    animation:\n",
       "      spin 1s steps(1) infinite;\n",
       "  }\n",
       "\n",
       "  @keyframes spin {\n",
       "    0% {\n",
       "      border-color: transparent;\n",
       "      border-bottom-color: var(--fill-color);\n",
       "      border-left-color: var(--fill-color);\n",
       "    }\n",
       "    20% {\n",
       "      border-color: transparent;\n",
       "      border-left-color: var(--fill-color);\n",
       "      border-top-color: var(--fill-color);\n",
       "    }\n",
       "    30% {\n",
       "      border-color: transparent;\n",
       "      border-left-color: var(--fill-color);\n",
       "      border-top-color: var(--fill-color);\n",
       "      border-right-color: var(--fill-color);\n",
       "    }\n",
       "    40% {\n",
       "      border-color: transparent;\n",
       "      border-right-color: var(--fill-color);\n",
       "      border-top-color: var(--fill-color);\n",
       "    }\n",
       "    60% {\n",
       "      border-color: transparent;\n",
       "      border-right-color: var(--fill-color);\n",
       "    }\n",
       "    80% {\n",
       "      border-color: transparent;\n",
       "      border-right-color: var(--fill-color);\n",
       "      border-bottom-color: var(--fill-color);\n",
       "    }\n",
       "    90% {\n",
       "      border-color: transparent;\n",
       "      border-bottom-color: var(--fill-color);\n",
       "    }\n",
       "  }\n",
       "</style>\n",
       "\n",
       "  <script>\n",
       "    async function quickchart(key) {\n",
       "      const quickchartButtonEl =\n",
       "        document.querySelector('#' + key + ' button');\n",
       "      quickchartButtonEl.disabled = true;  // To prevent multiple clicks.\n",
       "      quickchartButtonEl.classList.add('colab-df-spinner');\n",
       "      try {\n",
       "        const charts = await google.colab.kernel.invokeFunction(\n",
       "            'suggestCharts', [key], {});\n",
       "      } catch (error) {\n",
       "        console.error('Error during call to suggestCharts:', error);\n",
       "      }\n",
       "      quickchartButtonEl.classList.remove('colab-df-spinner');\n",
       "      quickchartButtonEl.classList.add('colab-df-quickchart-complete');\n",
       "    }\n",
       "    (() => {\n",
       "      let quickchartButtonEl =\n",
       "        document.querySelector('#df-44132cf1-0e07-4f42-8176-4f66ab7345fa button');\n",
       "      quickchartButtonEl.style.display =\n",
       "        google.colab.kernel.accessAllowed ? 'block' : 'none';\n",
       "    })();\n",
       "  </script>\n",
       "</div>\n",
       "\n",
       "    </div>\n",
       "  </div>\n"
      ],
      "text/plain": [
       "       date  hair_loss  stay_up_late pressure_level  coffee_consumed  \\\n",
       "0  1/01/2021       Few             2            Low                0   \n",
       "1  2/01/2021       Few             0            Low                0   \n",
       "2  3/01/2021    Medium             3            Low                1   \n",
       "3  4/01/2021       Few             2            Low                0   \n",
       "4  5/01/2021       Few             2            Low                0   \n",
       "\n",
       "   brain_working_duration school_assesssment stress_level shampoo_brand  \\\n",
       "0                       1                NaN          Low       Pantene   \n",
       "1                       3                NaN          Low       Pantene   \n",
       "2                       0                NaN          Low       Pantene   \n",
       "3                       1                NaN          Low       Pantene   \n",
       "4                       1                NaN          Low       Pantene   \n",
       "\n",
       "  swimming hair_washing  hair_grease dandruff  libido  \n",
       "0       No            Y          3.0      NaN       1  \n",
       "1       No            N          1.0      NaN       1  \n",
       "2      Yes            Y          2.0      NaN       2  \n",
       "3       No            N          3.0      NaN       3  \n",
       "4       No            Y          1.0      NaN       2  "
      ]
     },
     "execution_count": 33,
     "metadata": {},
     "output_type": "execute_result"
    }
   ],
   "source": [
    "df = pd.read_csv('../content/drive/MyDrive/hair fall detection/data2.csv')\n",
    "df.head()"
   ]
  },
  {
   "cell_type": "code",
   "execution_count": 34,
   "id": "sqmLz7fz-Lbm",
   "metadata": {
    "colab": {
     "base_uri": "https://localhost:8080/",
     "height": 206
    },
    "executionInfo": {
     "elapsed": 421,
     "status": "ok",
     "timestamp": 1719899091483,
     "user": {
      "displayName": "Yashu",
      "userId": "01822420586054669931"
     },
     "user_tz": -330
    },
    "id": "sqmLz7fz-Lbm",
    "outputId": "b1d8e556-4c20-4edd-f224-54af3212979a"
   },
   "outputs": [
    {
     "data": {
      "application/vnd.google.colaboratory.intrinsic+json": {
       "summary": "{\n  \"name\": \"df\",\n  \"rows\": 400,\n  \"fields\": [\n    {\n      \"column\": \"date \",\n      \"properties\": {\n        \"dtype\": \"string\",\n        \"num_unique_values\": 400,\n        \"samples\": [\n          \"29/07/2021\",\n          \"8/10/2021\",\n          \"3/02/2021\"\n        ],\n        \"semantic_type\": \"\",\n        \"description\": \"\"\n      }\n    },\n    {\n      \"column\": \"hair_loss\",\n      \"properties\": {\n        \"dtype\": \"number\",\n        \"std\": 0,\n        \"min\": 0,\n        \"max\": 1,\n        \"num_unique_values\": 2,\n        \"samples\": [\n          1,\n          0\n        ],\n        \"semantic_type\": \"\",\n        \"description\": \"\"\n      }\n    },\n    {\n      \"column\": \"stay_up_late\",\n      \"properties\": {\n        \"dtype\": \"number\",\n        \"std\": 1,\n        \"min\": 0,\n        \"max\": 8,\n        \"num_unique_values\": 8,\n        \"samples\": [\n          0,\n          5\n        ],\n        \"semantic_type\": \"\",\n        \"description\": \"\"\n      }\n    },\n    {\n      \"column\": \"pressure_level\",\n      \"properties\": {\n        \"dtype\": \"number\",\n        \"std\": 0,\n        \"min\": 0,\n        \"max\": 3,\n        \"num_unique_values\": 4,\n        \"samples\": [\n          1,\n          3\n        ],\n        \"semantic_type\": \"\",\n        \"description\": \"\"\n      }\n    },\n    {\n      \"column\": \"coffee_consumed\",\n      \"properties\": {\n        \"dtype\": \"number\",\n        \"std\": 1,\n        \"min\": 0,\n        \"max\": 10,\n        \"num_unique_values\": 11,\n        \"samples\": [\n          5,\n          0\n        ],\n        \"semantic_type\": \"\",\n        \"description\": \"\"\n      }\n    },\n    {\n      \"column\": \"brain_working_duration\",\n      \"properties\": {\n        \"dtype\": \"number\",\n        \"std\": 4,\n        \"min\": 0,\n        \"max\": 18,\n        \"num_unique_values\": 15,\n        \"samples\": [\n          10,\n          13\n        ],\n        \"semantic_type\": \"\",\n        \"description\": \"\"\n      }\n    },\n    {\n      \"column\": \"school_assesssment\",\n      \"properties\": {\n        \"dtype\": \"category\",\n        \"num_unique_values\": 4,\n        \"samples\": [\n          \"Team ass\",\n          \"Final exam\"\n        ],\n        \"semantic_type\": \"\",\n        \"description\": \"\"\n      }\n    },\n    {\n      \"column\": \"stress_level\",\n      \"properties\": {\n        \"dtype\": \"number\",\n        \"std\": 1,\n        \"min\": 0,\n        \"max\": 3,\n        \"num_unique_values\": 4,\n        \"samples\": [\n          1,\n          3\n        ],\n        \"semantic_type\": \"\",\n        \"description\": \"\"\n      }\n    },\n    {\n      \"column\": \"shampoo_brand\",\n      \"properties\": {\n        \"dtype\": \"category\",\n        \"num_unique_values\": 2,\n        \"samples\": [\n          \"Hair & Shoulder\",\n          \"Pantene\"\n        ],\n        \"semantic_type\": \"\",\n        \"description\": \"\"\n      }\n    },\n    {\n      \"column\": \"swimming\",\n      \"properties\": {\n        \"dtype\": \"number\",\n        \"std\": 0,\n        \"min\": 0,\n        \"max\": 1,\n        \"num_unique_values\": 2,\n        \"samples\": [\n          1,\n          0\n        ],\n        \"semantic_type\": \"\",\n        \"description\": \"\"\n      }\n    },\n    {\n      \"column\": \"hair_washing\",\n      \"properties\": {\n        \"dtype\": \"category\",\n        \"num_unique_values\": 2,\n        \"samples\": [\n          \"N\",\n          \"Y\"\n        ],\n        \"semantic_type\": \"\",\n        \"description\": \"\"\n      }\n    },\n    {\n      \"column\": \"hair_grease\",\n      \"properties\": {\n        \"dtype\": \"number\",\n        \"std\": 1.2761620956651547,\n        \"min\": 1.0,\n        \"max\": 5.0,\n        \"num_unique_values\": 5,\n        \"samples\": [\n          1.0,\n          5.0\n        ],\n        \"semantic_type\": \"\",\n        \"description\": \"\"\n      }\n    },\n    {\n      \"column\": \"dandruff\",\n      \"properties\": {\n        \"dtype\": \"number\",\n        \"std\": 0.46674855956308836,\n        \"min\": 1.0,\n        \"max\": 2.0,\n        \"num_unique_values\": 2,\n        \"samples\": [\n          2.0,\n          1.0\n        ],\n        \"semantic_type\": \"\",\n        \"description\": \"\"\n      }\n    },\n    {\n      \"column\": \"libido\",\n      \"properties\": {\n        \"dtype\": \"number\",\n        \"std\": 1,\n        \"min\": 0,\n        \"max\": 5,\n        \"num_unique_values\": 6,\n        \"samples\": [\n          1,\n          2\n        ],\n        \"semantic_type\": \"\",\n        \"description\": \"\"\n      }\n    }\n  ]\n}",
       "type": "dataframe",
       "variable_name": "df"
      },
      "text/html": [
       "\n",
       "  <div id=\"df-67eafb72-0e3a-43cb-b5cb-7bd78d72a7b9\" class=\"colab-df-container\">\n",
       "    <div>\n",
       "<style scoped>\n",
       "    .dataframe tbody tr th:only-of-type {\n",
       "        vertical-align: middle;\n",
       "    }\n",
       "\n",
       "    .dataframe tbody tr th {\n",
       "        vertical-align: top;\n",
       "    }\n",
       "\n",
       "    .dataframe thead th {\n",
       "        text-align: right;\n",
       "    }\n",
       "</style>\n",
       "<table border=\"1\" class=\"dataframe\">\n",
       "  <thead>\n",
       "    <tr style=\"text-align: right;\">\n",
       "      <th></th>\n",
       "      <th>date</th>\n",
       "      <th>hair_loss</th>\n",
       "      <th>stay_up_late</th>\n",
       "      <th>pressure_level</th>\n",
       "      <th>coffee_consumed</th>\n",
       "      <th>brain_working_duration</th>\n",
       "      <th>school_assesssment</th>\n",
       "      <th>stress_level</th>\n",
       "      <th>shampoo_brand</th>\n",
       "      <th>swimming</th>\n",
       "      <th>hair_washing</th>\n",
       "      <th>hair_grease</th>\n",
       "      <th>dandruff</th>\n",
       "      <th>libido</th>\n",
       "    </tr>\n",
       "  </thead>\n",
       "  <tbody>\n",
       "    <tr>\n",
       "      <th>0</th>\n",
       "      <td>1/01/2021</td>\n",
       "      <td>0</td>\n",
       "      <td>2</td>\n",
       "      <td>0</td>\n",
       "      <td>0</td>\n",
       "      <td>1</td>\n",
       "      <td>NaN</td>\n",
       "      <td>0</td>\n",
       "      <td>Pantene</td>\n",
       "      <td>0</td>\n",
       "      <td>Y</td>\n",
       "      <td>3.0</td>\n",
       "      <td>NaN</td>\n",
       "      <td>1</td>\n",
       "    </tr>\n",
       "    <tr>\n",
       "      <th>1</th>\n",
       "      <td>2/01/2021</td>\n",
       "      <td>0</td>\n",
       "      <td>0</td>\n",
       "      <td>0</td>\n",
       "      <td>0</td>\n",
       "      <td>3</td>\n",
       "      <td>NaN</td>\n",
       "      <td>0</td>\n",
       "      <td>Pantene</td>\n",
       "      <td>0</td>\n",
       "      <td>N</td>\n",
       "      <td>1.0</td>\n",
       "      <td>NaN</td>\n",
       "      <td>1</td>\n",
       "    </tr>\n",
       "    <tr>\n",
       "      <th>2</th>\n",
       "      <td>3/01/2021</td>\n",
       "      <td>0</td>\n",
       "      <td>3</td>\n",
       "      <td>0</td>\n",
       "      <td>1</td>\n",
       "      <td>0</td>\n",
       "      <td>NaN</td>\n",
       "      <td>0</td>\n",
       "      <td>Pantene</td>\n",
       "      <td>1</td>\n",
       "      <td>Y</td>\n",
       "      <td>2.0</td>\n",
       "      <td>NaN</td>\n",
       "      <td>2</td>\n",
       "    </tr>\n",
       "    <tr>\n",
       "      <th>3</th>\n",
       "      <td>4/01/2021</td>\n",
       "      <td>0</td>\n",
       "      <td>2</td>\n",
       "      <td>0</td>\n",
       "      <td>0</td>\n",
       "      <td>1</td>\n",
       "      <td>NaN</td>\n",
       "      <td>0</td>\n",
       "      <td>Pantene</td>\n",
       "      <td>0</td>\n",
       "      <td>N</td>\n",
       "      <td>3.0</td>\n",
       "      <td>NaN</td>\n",
       "      <td>3</td>\n",
       "    </tr>\n",
       "    <tr>\n",
       "      <th>4</th>\n",
       "      <td>5/01/2021</td>\n",
       "      <td>0</td>\n",
       "      <td>2</td>\n",
       "      <td>0</td>\n",
       "      <td>0</td>\n",
       "      <td>1</td>\n",
       "      <td>NaN</td>\n",
       "      <td>0</td>\n",
       "      <td>Pantene</td>\n",
       "      <td>0</td>\n",
       "      <td>Y</td>\n",
       "      <td>1.0</td>\n",
       "      <td>NaN</td>\n",
       "      <td>2</td>\n",
       "    </tr>\n",
       "  </tbody>\n",
       "</table>\n",
       "</div>\n",
       "    <div class=\"colab-df-buttons\">\n",
       "\n",
       "  <div class=\"colab-df-container\">\n",
       "    <button class=\"colab-df-convert\" onclick=\"convertToInteractive('df-67eafb72-0e3a-43cb-b5cb-7bd78d72a7b9')\"\n",
       "            title=\"Convert this dataframe to an interactive table.\"\n",
       "            style=\"display:none;\">\n",
       "\n",
       "  <svg xmlns=\"http://www.w3.org/2000/svg\" height=\"24px\" viewBox=\"0 -960 960 960\">\n",
       "    <path d=\"M120-120v-720h720v720H120Zm60-500h600v-160H180v160Zm220 220h160v-160H400v160Zm0 220h160v-160H400v160ZM180-400h160v-160H180v160Zm440 0h160v-160H620v160ZM180-180h160v-160H180v160Zm440 0h160v-160H620v160Z\"/>\n",
       "  </svg>\n",
       "    </button>\n",
       "\n",
       "  <style>\n",
       "    .colab-df-container {\n",
       "      display:flex;\n",
       "      gap: 12px;\n",
       "    }\n",
       "\n",
       "    .colab-df-convert {\n",
       "      background-color: #E8F0FE;\n",
       "      border: none;\n",
       "      border-radius: 50%;\n",
       "      cursor: pointer;\n",
       "      display: none;\n",
       "      fill: #1967D2;\n",
       "      height: 32px;\n",
       "      padding: 0 0 0 0;\n",
       "      width: 32px;\n",
       "    }\n",
       "\n",
       "    .colab-df-convert:hover {\n",
       "      background-color: #E2EBFA;\n",
       "      box-shadow: 0px 1px 2px rgba(60, 64, 67, 0.3), 0px 1px 3px 1px rgba(60, 64, 67, 0.15);\n",
       "      fill: #174EA6;\n",
       "    }\n",
       "\n",
       "    .colab-df-buttons div {\n",
       "      margin-bottom: 4px;\n",
       "    }\n",
       "\n",
       "    [theme=dark] .colab-df-convert {\n",
       "      background-color: #3B4455;\n",
       "      fill: #D2E3FC;\n",
       "    }\n",
       "\n",
       "    [theme=dark] .colab-df-convert:hover {\n",
       "      background-color: #434B5C;\n",
       "      box-shadow: 0px 1px 3px 1px rgba(0, 0, 0, 0.15);\n",
       "      filter: drop-shadow(0px 1px 2px rgba(0, 0, 0, 0.3));\n",
       "      fill: #FFFFFF;\n",
       "    }\n",
       "  </style>\n",
       "\n",
       "    <script>\n",
       "      const buttonEl =\n",
       "        document.querySelector('#df-67eafb72-0e3a-43cb-b5cb-7bd78d72a7b9 button.colab-df-convert');\n",
       "      buttonEl.style.display =\n",
       "        google.colab.kernel.accessAllowed ? 'block' : 'none';\n",
       "\n",
       "      async function convertToInteractive(key) {\n",
       "        const element = document.querySelector('#df-67eafb72-0e3a-43cb-b5cb-7bd78d72a7b9');\n",
       "        const dataTable =\n",
       "          await google.colab.kernel.invokeFunction('convertToInteractive',\n",
       "                                                    [key], {});\n",
       "        if (!dataTable) return;\n",
       "\n",
       "        const docLinkHtml = 'Like what you see? Visit the ' +\n",
       "          '<a target=\"_blank\" href=https://colab.research.google.com/notebooks/data_table.ipynb>data table notebook</a>'\n",
       "          + ' to learn more about interactive tables.';\n",
       "        element.innerHTML = '';\n",
       "        dataTable['output_type'] = 'display_data';\n",
       "        await google.colab.output.renderOutput(dataTable, element);\n",
       "        const docLink = document.createElement('div');\n",
       "        docLink.innerHTML = docLinkHtml;\n",
       "        element.appendChild(docLink);\n",
       "      }\n",
       "    </script>\n",
       "  </div>\n",
       "\n",
       "\n",
       "<div id=\"df-2a5b7911-dab3-4568-81e6-4e5de952323b\">\n",
       "  <button class=\"colab-df-quickchart\" onclick=\"quickchart('df-2a5b7911-dab3-4568-81e6-4e5de952323b')\"\n",
       "            title=\"Suggest charts\"\n",
       "            style=\"display:none;\">\n",
       "\n",
       "<svg xmlns=\"http://www.w3.org/2000/svg\" height=\"24px\"viewBox=\"0 0 24 24\"\n",
       "     width=\"24px\">\n",
       "    <g>\n",
       "        <path d=\"M19 3H5c-1.1 0-2 .9-2 2v14c0 1.1.9 2 2 2h14c1.1 0 2-.9 2-2V5c0-1.1-.9-2-2-2zM9 17H7v-7h2v7zm4 0h-2V7h2v10zm4 0h-2v-4h2v4z\"/>\n",
       "    </g>\n",
       "</svg>\n",
       "  </button>\n",
       "\n",
       "<style>\n",
       "  .colab-df-quickchart {\n",
       "      --bg-color: #E8F0FE;\n",
       "      --fill-color: #1967D2;\n",
       "      --hover-bg-color: #E2EBFA;\n",
       "      --hover-fill-color: #174EA6;\n",
       "      --disabled-fill-color: #AAA;\n",
       "      --disabled-bg-color: #DDD;\n",
       "  }\n",
       "\n",
       "  [theme=dark] .colab-df-quickchart {\n",
       "      --bg-color: #3B4455;\n",
       "      --fill-color: #D2E3FC;\n",
       "      --hover-bg-color: #434B5C;\n",
       "      --hover-fill-color: #FFFFFF;\n",
       "      --disabled-bg-color: #3B4455;\n",
       "      --disabled-fill-color: #666;\n",
       "  }\n",
       "\n",
       "  .colab-df-quickchart {\n",
       "    background-color: var(--bg-color);\n",
       "    border: none;\n",
       "    border-radius: 50%;\n",
       "    cursor: pointer;\n",
       "    display: none;\n",
       "    fill: var(--fill-color);\n",
       "    height: 32px;\n",
       "    padding: 0;\n",
       "    width: 32px;\n",
       "  }\n",
       "\n",
       "  .colab-df-quickchart:hover {\n",
       "    background-color: var(--hover-bg-color);\n",
       "    box-shadow: 0 1px 2px rgba(60, 64, 67, 0.3), 0 1px 3px 1px rgba(60, 64, 67, 0.15);\n",
       "    fill: var(--button-hover-fill-color);\n",
       "  }\n",
       "\n",
       "  .colab-df-quickchart-complete:disabled,\n",
       "  .colab-df-quickchart-complete:disabled:hover {\n",
       "    background-color: var(--disabled-bg-color);\n",
       "    fill: var(--disabled-fill-color);\n",
       "    box-shadow: none;\n",
       "  }\n",
       "\n",
       "  .colab-df-spinner {\n",
       "    border: 2px solid var(--fill-color);\n",
       "    border-color: transparent;\n",
       "    border-bottom-color: var(--fill-color);\n",
       "    animation:\n",
       "      spin 1s steps(1) infinite;\n",
       "  }\n",
       "\n",
       "  @keyframes spin {\n",
       "    0% {\n",
       "      border-color: transparent;\n",
       "      border-bottom-color: var(--fill-color);\n",
       "      border-left-color: var(--fill-color);\n",
       "    }\n",
       "    20% {\n",
       "      border-color: transparent;\n",
       "      border-left-color: var(--fill-color);\n",
       "      border-top-color: var(--fill-color);\n",
       "    }\n",
       "    30% {\n",
       "      border-color: transparent;\n",
       "      border-left-color: var(--fill-color);\n",
       "      border-top-color: var(--fill-color);\n",
       "      border-right-color: var(--fill-color);\n",
       "    }\n",
       "    40% {\n",
       "      border-color: transparent;\n",
       "      border-right-color: var(--fill-color);\n",
       "      border-top-color: var(--fill-color);\n",
       "    }\n",
       "    60% {\n",
       "      border-color: transparent;\n",
       "      border-right-color: var(--fill-color);\n",
       "    }\n",
       "    80% {\n",
       "      border-color: transparent;\n",
       "      border-right-color: var(--fill-color);\n",
       "      border-bottom-color: var(--fill-color);\n",
       "    }\n",
       "    90% {\n",
       "      border-color: transparent;\n",
       "      border-bottom-color: var(--fill-color);\n",
       "    }\n",
       "  }\n",
       "</style>\n",
       "\n",
       "  <script>\n",
       "    async function quickchart(key) {\n",
       "      const quickchartButtonEl =\n",
       "        document.querySelector('#' + key + ' button');\n",
       "      quickchartButtonEl.disabled = true;  // To prevent multiple clicks.\n",
       "      quickchartButtonEl.classList.add('colab-df-spinner');\n",
       "      try {\n",
       "        const charts = await google.colab.kernel.invokeFunction(\n",
       "            'suggestCharts', [key], {});\n",
       "      } catch (error) {\n",
       "        console.error('Error during call to suggestCharts:', error);\n",
       "      }\n",
       "      quickchartButtonEl.classList.remove('colab-df-spinner');\n",
       "      quickchartButtonEl.classList.add('colab-df-quickchart-complete');\n",
       "    }\n",
       "    (() => {\n",
       "      let quickchartButtonEl =\n",
       "        document.querySelector('#df-2a5b7911-dab3-4568-81e6-4e5de952323b button');\n",
       "      quickchartButtonEl.style.display =\n",
       "        google.colab.kernel.accessAllowed ? 'block' : 'none';\n",
       "    })();\n",
       "  </script>\n",
       "</div>\n",
       "\n",
       "    </div>\n",
       "  </div>\n"
      ],
      "text/plain": [
       "       date   hair_loss  stay_up_late  pressure_level  coffee_consumed  \\\n",
       "0  1/01/2021          0             2               0                0   \n",
       "1  2/01/2021          0             0               0                0   \n",
       "2  3/01/2021          0             3               0                1   \n",
       "3  4/01/2021          0             2               0                0   \n",
       "4  5/01/2021          0             2               0                0   \n",
       "\n",
       "   brain_working_duration school_assesssment  stress_level shampoo_brand  \\\n",
       "0                       1                NaN             0       Pantene   \n",
       "1                       3                NaN             0       Pantene   \n",
       "2                       0                NaN             0       Pantene   \n",
       "3                       1                NaN             0       Pantene   \n",
       "4                       1                NaN             0       Pantene   \n",
       "\n",
       "   swimming hair_washing  hair_grease  dandruff  libido  \n",
       "0         0            Y          3.0       NaN       1  \n",
       "1         0            N          1.0       NaN       1  \n",
       "2         1            Y          2.0       NaN       2  \n",
       "3         0            N          3.0       NaN       3  \n",
       "4         0            Y          1.0       NaN       2  "
      ]
     },
     "execution_count": 34,
     "metadata": {},
     "output_type": "execute_result"
    }
   ],
   "source": [
    "df['dandruff'].replace('None',0,inplace=True)\n",
    "df['dandruff'].replace('Few',1,inplace=True)\n",
    "df['dandruff'].replace('Many',2, inplace=True)\n",
    "\n",
    "df['hair_loss'].replace(\"Few\", 0, inplace=True)\n",
    "df['hair_loss'].replace(\"Medium\", 0, inplace=True)\n",
    "df['hair_loss'].replace(\"Many\", 1, inplace=True)\n",
    "df['hair_loss'].replace(\"A lot\", 1, inplace=True)\n",
    "\n",
    "df['swimming'].replace('Yes', 1, inplace=True)\n",
    "df['swimming'].replace('No', 0, inplace=True)\n",
    "\n",
    "df.replace('Low', 0, inplace=True)\n",
    "df.replace('Medium', 1, inplace=True)\n",
    "df.replace('High', 2, inplace=True)\n",
    "df.replace('Very High', 3, inplace=True)\n",
    "\n",
    "\n",
    "\n",
    "df.head()"
   ]
  },
  {
   "cell_type": "code",
   "execution_count": 36,
   "id": "uxk_gTiM-cex",
   "metadata": {
    "colab": {
     "base_uri": "https://localhost:8080/"
    },
    "executionInfo": {
     "elapsed": 408,
     "status": "ok",
     "timestamp": 1719899115417,
     "user": {
      "displayName": "Yashu",
      "userId": "01822420586054669931"
     },
     "user_tz": -330
    },
    "id": "uxk_gTiM-cex",
    "outputId": "7b811385-9d82-43ae-de48-40524f6db9e1"
   },
   "outputs": [
    {
     "name": "stdout",
     "output_type": "stream",
     "text": [
      "<class 'pandas.core.frame.DataFrame'>\n",
      "RangeIndex: 400 entries, 0 to 399\n",
      "Data columns (total 14 columns):\n",
      " #   Column                  Non-Null Count  Dtype  \n",
      "---  ------                  --------------  -----  \n",
      " 0   date                    400 non-null    object \n",
      " 1   hair_loss               400 non-null    int64  \n",
      " 2   stay_up_late            400 non-null    int64  \n",
      " 3   pressure_level          400 non-null    int64  \n",
      " 4   coffee_consumed         400 non-null    int64  \n",
      " 5   brain_working_duration  400 non-null    int64  \n",
      " 6   school_assesssment      95 non-null     object \n",
      " 7   stress_level            400 non-null    int64  \n",
      " 8   shampoo_brand           400 non-null    object \n",
      " 9   swimming                400 non-null    int64  \n",
      " 10  hair_washing            400 non-null    object \n",
      " 11  hair_grease             396 non-null    float64\n",
      " 12  dandruff                111 non-null    float64\n",
      " 13  libido                  400 non-null    int64  \n",
      "dtypes: float64(2), int64(8), object(4)\n",
      "memory usage: 43.9+ KB\n"
     ]
    }
   ],
   "source": [
    "df.info()"
   ]
  },
  {
   "cell_type": "code",
   "execution_count": 38,
   "id": "S1MyJ_67-iKL",
   "metadata": {
    "executionInfo": {
     "elapsed": 426,
     "status": "ok",
     "timestamp": 1719899138518,
     "user": {
      "displayName": "Yashu",
      "userId": "01822420586054669931"
     },
     "user_tz": -330
    },
    "id": "S1MyJ_67-iKL"
   },
   "outputs": [],
   "source": [
    "X_df= df[['stress_level', 'pressure_level',\"dandruff\"]]"
   ]
  },
  {
   "cell_type": "code",
   "execution_count": 39,
   "id": "BRofZ1IG-kxL",
   "metadata": {
    "colab": {
     "base_uri": "https://localhost:8080/"
    },
    "executionInfo": {
     "elapsed": 410,
     "status": "ok",
     "timestamp": 1719899155786,
     "user": {
      "displayName": "Yashu",
      "userId": "01822420586054669931"
     },
     "user_tz": -330
    },
    "id": "BRofZ1IG-kxL",
    "outputId": "9fc28976-2d30-4eb4-c7c6-fc864786de3f"
   },
   "outputs": [
    {
     "name": "stdout",
     "output_type": "stream",
     "text": [
      "(400,)\n",
      "(400, 3)\n"
     ]
    }
   ],
   "source": [
    "y_data = df['hair_loss'].to_numpy().astype(np.float16)\n",
    "print(y_data.shape)\n",
    "\n",
    "df.drop('hair_loss', axis=1, inplace=True)\n",
    "\n",
    "X_data = X_df.to_numpy().astype(np.float16)\n",
    "\n",
    "print(X_data.shape)"
   ]
  },
  {
   "cell_type": "markdown",
   "id": "Unfg_q21-pYD",
   "metadata": {
    "id": "Unfg_q21-pYD"
   },
   "source": [
    "# **Train Test Split**"
   ]
  },
  {
   "cell_type": "code",
   "execution_count": 40,
   "id": "CTf8D86m-r_b",
   "metadata": {
    "colab": {
     "base_uri": "https://localhost:8080/"
    },
    "executionInfo": {
     "elapsed": 459,
     "status": "ok",
     "timestamp": 1719899184253,
     "user": {
      "displayName": "Yashu",
      "userId": "01822420586054669931"
     },
     "user_tz": -330
    },
    "id": "CTf8D86m-r_b",
    "outputId": "e12be1c8-a456-4775-ebab-f7b933217d91"
   },
   "outputs": [
    {
     "name": "stdout",
     "output_type": "stream",
     "text": [
      "(380, 3)\n",
      "(20, 3)\n"
     ]
    }
   ],
   "source": [
    "X_train, X_test, y_train, y_test = train_test_split(X_data, y_data, test_size=0.05, random_state=42)\n",
    "print(X_train.shape)\n",
    "print(X_test.shape)"
   ]
  },
  {
   "cell_type": "markdown",
   "id": "jDq2oi29-vT6",
   "metadata": {
    "id": "jDq2oi29-vT6"
   },
   "source": [
    "**Model Building**"
   ]
  },
  {
   "cell_type": "code",
   "execution_count": 41,
   "id": "s8wsldR7-xT6",
   "metadata": {
    "colab": {
     "base_uri": "https://localhost:8080/"
    },
    "executionInfo": {
     "elapsed": 1073,
     "status": "ok",
     "timestamp": 1719899205659,
     "user": {
      "displayName": "Yashu",
      "userId": "01822420586054669931"
     },
     "user_tz": -330
    },
    "id": "s8wsldR7-xT6",
    "outputId": "c7b7eabe-2806-4435-d5b1-b0b1371a4d67"
   },
   "outputs": [
    {
     "name": "stdout",
     "output_type": "stream",
     "text": [
      "Model: \"sequential\"\n",
      "_________________________________________________________________\n",
      " Layer (type)                Output Shape              Param #   \n",
      "=================================================================\n",
      " dense (Dense)               (None, 64)                256       \n",
      "                                                                 \n",
      " dense_1 (Dense)             (None, 32)                2080      \n",
      "                                                                 \n",
      " dense_2 (Dense)             (None, 16)                528       \n",
      "                                                                 \n",
      " dense_3 (Dense)             (None, 1)                 17        \n",
      "                                                                 \n",
      "=================================================================\n",
      "Total params: 2881 (11.25 KB)\n",
      "Trainable params: 2881 (11.25 KB)\n",
      "Non-trainable params: 0 (0.00 Byte)\n",
      "_________________________________________________________________\n"
     ]
    }
   ],
   "source": [
    "model = tf.keras.Sequential()\n",
    "\n",
    "model.add(tf.keras.layers.Input(shape=(3)))\n",
    "\n",
    "model.add(tf.keras.layers.Dense(64, activation='relu'))\n",
    "model.add(tf.keras.layers.Dense(32, activation='relu'))\n",
    "model.add(tf.keras.layers.Dense(16, activation='relu'))\n",
    "model.add(tf.keras.layers.Dense(1, activation='sigmoid'))\n",
    "\n",
    "model.compile(loss=tf.keras.losses.BinaryCrossentropy(from_logits=True), metrics=['acc'], optimizer='adam')\n",
    "model.summary()"
   ]
  },
  {
   "cell_type": "code",
   "execution_count": 42,
   "id": "N5ajb5-z-0pi",
   "metadata": {
    "colab": {
     "base_uri": "https://localhost:8080/"
    },
    "executionInfo": {
     "elapsed": 8675,
     "status": "ok",
     "timestamp": 1719899222522,
     "user": {
      "displayName": "Yashu",
      "userId": "01822420586054669931"
     },
     "user_tz": -330
    },
    "id": "N5ajb5-z-0pi",
    "outputId": "3812b009-46e0-4ef7-f29a-1ce9249691f4"
   },
   "outputs": [
    {
     "name": "stdout",
     "output_type": "stream",
     "text": [
      "Epoch 1/50\n"
     ]
    },
    {
     "name": "stderr",
     "output_type": "stream",
     "text": [
      "/usr/local/lib/python3.10/dist-packages/keras/src/backend.py:5818: UserWarning: \"`binary_crossentropy` received `from_logits=True`, but the `output` argument was produced by a Sigmoid activation and thus does not represent logits. Was this intended?\n",
      "  output, from_logits = _get_logits(\n"
     ]
    },
    {
     "name": "stdout",
     "output_type": "stream",
     "text": [
      "6/6 - 4s - loss: nan - acc: 0.8596 - val_loss: nan - val_acc: 0.8158 - 4s/epoch - 695ms/step\n",
      "Epoch 2/50\n",
      "6/6 - 0s - loss: nan - acc: 0.8421 - val_loss: nan - val_acc: 0.8158 - 137ms/epoch - 23ms/step\n",
      "Epoch 3/50\n",
      "6/6 - 0s - loss: nan - acc: 0.8421 - val_loss: nan - val_acc: 0.8158 - 126ms/epoch - 21ms/step\n",
      "Epoch 4/50\n",
      "6/6 - 0s - loss: nan - acc: 0.8421 - val_loss: nan - val_acc: 0.8158 - 153ms/epoch - 26ms/step\n",
      "Epoch 5/50\n",
      "6/6 - 0s - loss: nan - acc: 0.8421 - val_loss: nan - val_acc: 0.8158 - 109ms/epoch - 18ms/step\n",
      "Epoch 6/50\n",
      "6/6 - 0s - loss: nan - acc: 0.8421 - val_loss: nan - val_acc: 0.8158 - 138ms/epoch - 23ms/step\n",
      "Epoch 7/50\n",
      "6/6 - 0s - loss: nan - acc: 0.8421 - val_loss: nan - val_acc: 0.8158 - 125ms/epoch - 21ms/step\n",
      "Epoch 8/50\n",
      "6/6 - 0s - loss: nan - acc: 0.8421 - val_loss: nan - val_acc: 0.8158 - 90ms/epoch - 15ms/step\n",
      "Epoch 9/50\n",
      "6/6 - 0s - loss: nan - acc: 0.8421 - val_loss: nan - val_acc: 0.8158 - 89ms/epoch - 15ms/step\n",
      "Epoch 10/50\n",
      "6/6 - 0s - loss: nan - acc: 0.8421 - val_loss: nan - val_acc: 0.8158 - 89ms/epoch - 15ms/step\n",
      "Epoch 11/50\n",
      "6/6 - 0s - loss: nan - acc: 0.8421 - val_loss: nan - val_acc: 0.8158 - 85ms/epoch - 14ms/step\n",
      "Epoch 12/50\n",
      "6/6 - 0s - loss: nan - acc: 0.8421 - val_loss: nan - val_acc: 0.8158 - 95ms/epoch - 16ms/step\n",
      "Epoch 13/50\n",
      "6/6 - 0s - loss: nan - acc: 0.8421 - val_loss: nan - val_acc: 0.8158 - 99ms/epoch - 17ms/step\n",
      "Epoch 14/50\n",
      "6/6 - 0s - loss: nan - acc: 0.8421 - val_loss: nan - val_acc: 0.8158 - 98ms/epoch - 16ms/step\n",
      "Epoch 15/50\n",
      "6/6 - 0s - loss: nan - acc: 0.8421 - val_loss: nan - val_acc: 0.8158 - 105ms/epoch - 18ms/step\n",
      "Epoch 16/50\n",
      "6/6 - 0s - loss: nan - acc: 0.8421 - val_loss: nan - val_acc: 0.8158 - 90ms/epoch - 15ms/step\n",
      "Epoch 17/50\n",
      "6/6 - 0s - loss: nan - acc: 0.8421 - val_loss: nan - val_acc: 0.8158 - 81ms/epoch - 14ms/step\n",
      "Epoch 18/50\n",
      "6/6 - 0s - loss: nan - acc: 0.8421 - val_loss: nan - val_acc: 0.8158 - 71ms/epoch - 12ms/step\n",
      "Epoch 19/50\n",
      "6/6 - 0s - loss: nan - acc: 0.8421 - val_loss: nan - val_acc: 0.8158 - 45ms/epoch - 8ms/step\n",
      "Epoch 20/50\n",
      "6/6 - 0s - loss: nan - acc: 0.8421 - val_loss: nan - val_acc: 0.8158 - 47ms/epoch - 8ms/step\n",
      "Epoch 21/50\n",
      "6/6 - 0s - loss: nan - acc: 0.8421 - val_loss: nan - val_acc: 0.8158 - 51ms/epoch - 8ms/step\n",
      "Epoch 22/50\n",
      "6/6 - 0s - loss: nan - acc: 0.8421 - val_loss: nan - val_acc: 0.8158 - 60ms/epoch - 10ms/step\n",
      "Epoch 23/50\n",
      "6/6 - 0s - loss: nan - acc: 0.8421 - val_loss: nan - val_acc: 0.8158 - 64ms/epoch - 11ms/step\n",
      "Epoch 24/50\n",
      "6/6 - 0s - loss: nan - acc: 0.8421 - val_loss: nan - val_acc: 0.8158 - 63ms/epoch - 10ms/step\n",
      "Epoch 25/50\n",
      "6/6 - 0s - loss: nan - acc: 0.8421 - val_loss: nan - val_acc: 0.8158 - 64ms/epoch - 11ms/step\n",
      "Epoch 26/50\n",
      "6/6 - 0s - loss: nan - acc: 0.8421 - val_loss: nan - val_acc: 0.8158 - 43ms/epoch - 7ms/step\n",
      "Epoch 27/50\n",
      "6/6 - 0s - loss: nan - acc: 0.8421 - val_loss: nan - val_acc: 0.8158 - 72ms/epoch - 12ms/step\n",
      "Epoch 28/50\n",
      "6/6 - 0s - loss: nan - acc: 0.8421 - val_loss: nan - val_acc: 0.8158 - 59ms/epoch - 10ms/step\n",
      "Epoch 29/50\n",
      "6/6 - 0s - loss: nan - acc: 0.8421 - val_loss: nan - val_acc: 0.8158 - 69ms/epoch - 11ms/step\n",
      "Epoch 30/50\n",
      "6/6 - 0s - loss: nan - acc: 0.8421 - val_loss: nan - val_acc: 0.8158 - 60ms/epoch - 10ms/step\n",
      "Epoch 31/50\n",
      "6/6 - 0s - loss: nan - acc: 0.8421 - val_loss: nan - val_acc: 0.8158 - 60ms/epoch - 10ms/step\n",
      "Epoch 32/50\n",
      "6/6 - 0s - loss: nan - acc: 0.8421 - val_loss: nan - val_acc: 0.8158 - 45ms/epoch - 8ms/step\n",
      "Epoch 33/50\n",
      "6/6 - 0s - loss: nan - acc: 0.8421 - val_loss: nan - val_acc: 0.8158 - 48ms/epoch - 8ms/step\n",
      "Epoch 34/50\n",
      "6/6 - 0s - loss: nan - acc: 0.8421 - val_loss: nan - val_acc: 0.8158 - 50ms/epoch - 8ms/step\n",
      "Epoch 35/50\n",
      "6/6 - 0s - loss: nan - acc: 0.8421 - val_loss: nan - val_acc: 0.8158 - 46ms/epoch - 8ms/step\n",
      "Epoch 36/50\n",
      "6/6 - 0s - loss: nan - acc: 0.8421 - val_loss: nan - val_acc: 0.8158 - 48ms/epoch - 8ms/step\n",
      "Epoch 37/50\n",
      "6/6 - 0s - loss: nan - acc: 0.8421 - val_loss: nan - val_acc: 0.8158 - 45ms/epoch - 8ms/step\n",
      "Epoch 38/50\n",
      "6/6 - 0s - loss: nan - acc: 0.8421 - val_loss: nan - val_acc: 0.8158 - 44ms/epoch - 7ms/step\n",
      "Epoch 39/50\n",
      "6/6 - 0s - loss: nan - acc: 0.8421 - val_loss: nan - val_acc: 0.8158 - 61ms/epoch - 10ms/step\n",
      "Epoch 40/50\n",
      "6/6 - 0s - loss: nan - acc: 0.8421 - val_loss: nan - val_acc: 0.8158 - 45ms/epoch - 8ms/step\n",
      "Epoch 41/50\n",
      "6/6 - 0s - loss: nan - acc: 0.8421 - val_loss: nan - val_acc: 0.8158 - 43ms/epoch - 7ms/step\n",
      "Epoch 42/50\n",
      "6/6 - 0s - loss: nan - acc: 0.8421 - val_loss: nan - val_acc: 0.8158 - 53ms/epoch - 9ms/step\n",
      "Epoch 43/50\n",
      "6/6 - 0s - loss: nan - acc: 0.8421 - val_loss: nan - val_acc: 0.8158 - 64ms/epoch - 11ms/step\n",
      "Epoch 44/50\n",
      "6/6 - 0s - loss: nan - acc: 0.8421 - val_loss: nan - val_acc: 0.8158 - 73ms/epoch - 12ms/step\n",
      "Epoch 45/50\n",
      "6/6 - 0s - loss: nan - acc: 0.8421 - val_loss: nan - val_acc: 0.8158 - 81ms/epoch - 13ms/step\n",
      "Epoch 46/50\n",
      "6/6 - 0s - loss: nan - acc: 0.8421 - val_loss: nan - val_acc: 0.8158 - 96ms/epoch - 16ms/step\n",
      "Epoch 47/50\n",
      "6/6 - 0s - loss: nan - acc: 0.8421 - val_loss: nan - val_acc: 0.8158 - 46ms/epoch - 8ms/step\n",
      "Epoch 48/50\n",
      "6/6 - 0s - loss: nan - acc: 0.8421 - val_loss: nan - val_acc: 0.8158 - 46ms/epoch - 8ms/step\n",
      "Epoch 49/50\n",
      "6/6 - 0s - loss: nan - acc: 0.8421 - val_loss: nan - val_acc: 0.8158 - 45ms/epoch - 8ms/step\n",
      "Epoch 50/50\n",
      "6/6 - 0s - loss: nan - acc: 0.8421 - val_loss: nan - val_acc: 0.8158 - 44ms/epoch - 7ms/step\n"
     ]
    },
    {
     "data": {
      "text/plain": [
       "<keras.src.callbacks.History at 0x7e0b400a92d0>"
      ]
     },
     "execution_count": 42,
     "metadata": {},
     "output_type": "execute_result"
    }
   ],
   "source": [
    "model.fit(X_train, y_train,epochs=50,batch_size=64,validation_split=0.10, verbose=2)"
   ]
  },
  {
   "cell_type": "code",
   "execution_count": 43,
   "id": "bIFIvA9Q-5BK",
   "metadata": {
    "colab": {
     "base_uri": "https://localhost:8080/"
    },
    "executionInfo": {
     "elapsed": 418,
     "status": "ok",
     "timestamp": 1719899232739,
     "user": {
      "displayName": "Yashu",
      "userId": "01822420586054669931"
     },
     "user_tz": -330
    },
    "id": "bIFIvA9Q-5BK",
    "outputId": "af14d753-c0cb-453a-97bd-ec0164fb068b"
   },
   "outputs": [
    {
     "name": "stdout",
     "output_type": "stream",
     "text": [
      "1/1 [==============================] - 0s 42ms/step - loss: nan - acc: 0.8500\n"
     ]
    },
    {
     "data": {
      "text/plain": [
       "[nan, 0.8500000238418579]"
      ]
     },
     "execution_count": 43,
     "metadata": {},
     "output_type": "execute_result"
    }
   ],
   "source": [
    "model.evaluate(X_test, y_test)"
   ]
  },
  {
   "cell_type": "markdown",
   "id": "30CpwMLf-7OF",
   "metadata": {
    "id": "30CpwMLf-7OF"
   },
   "source": [
    "# **Result: He was hair loss**\n"
   ]
  },
  {
   "cell_type": "code",
   "execution_count": 44,
   "id": "4HJfADH0-9Hb",
   "metadata": {
    "colab": {
     "base_uri": "https://localhost:8080/"
    },
    "executionInfo": {
     "elapsed": 429,
     "status": "ok",
     "timestamp": 1719899253976,
     "user": {
      "displayName": "Yashu",
      "userId": "01822420586054669931"
     },
     "user_tz": -330
    },
    "id": "4HJfADH0-9Hb",
    "outputId": "00224842-cd15-4345-dfef-b0f29051bc59"
   },
   "outputs": [
    {
     "name": "stdout",
     "output_type": "stream",
     "text": [
      "1/1 [==============================] - 0s 164ms/step\n"
     ]
    },
    {
     "data": {
      "text/plain": [
       "array([[nan]], dtype=float32)"
      ]
     },
     "execution_count": 44,
     "metadata": {},
     "output_type": "execute_result"
    }
   ],
   "source": [
    "model.predict(np.array([[2,2,2]]))"
   ]
  }
 ],
 "metadata": {
  "colab": {
   "provenance": []
  },
  "kaggle": {
   "accelerator": "none",
   "dataSources": [
    {
     "datasetId": 4078460,
     "sourceId": 7080051,
     "sourceType": "datasetVersion"
    }
   ],
   "dockerImageVersionId": 30587,
   "isGpuEnabled": false,
   "isInternetEnabled": true,
   "language": "python",
   "sourceType": "notebook"
  },
  "kernelspec": {
   "display_name": "Python 3 (ipykernel)",
   "language": "python",
   "name": "python3"
  },
  "language_info": {
   "codemirror_mode": {
    "name": "ipython",
    "version": 3
   },
   "file_extension": ".py",
   "mimetype": "text/x-python",
   "name": "python",
   "nbconvert_exporter": "python",
   "pygments_lexer": "ipython3",
   "version": "3.11.7"
  },
  "papermill": {
   "default_parameters": {},
   "duration": 53.116087,
   "end_time": "2023-12-01T13:51:07.891653",
   "environment_variables": {},
   "exception": null,
   "input_path": "__notebook__.ipynb",
   "output_path": "__notebook__.ipynb",
   "parameters": {},
   "start_time": "2023-12-01T13:50:14.775566",
   "version": "2.4.0"
  }
 },
 "nbformat": 4,
 "nbformat_minor": 5
}
